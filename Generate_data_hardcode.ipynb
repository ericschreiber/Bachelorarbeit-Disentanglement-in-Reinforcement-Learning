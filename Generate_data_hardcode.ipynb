{
 "cells": [
  {
   "cell_type": "markdown",
   "id": "88f5bc45",
   "metadata": {},
   "source": [
    "Paddle: 10 x 2 px @ 8,9,10 px & 73,74,75 vertical (counting from 0)\n",
    "        paddles can go out of the picture.\n",
    "        paddle form 0.45882353 0.5764706  0.48235294\n",
    "        \n",
    "Ball:   3 x 4 px\n",
    "         should be \n",
    "             XX\n",
    "            XXXX\n",
    "           XXXXXX\n",
    "            XXXX\n",
    "             XX \n",
    "        ball form:             0.827451   0.4392157\n",
    "                    0.5529412  0.91764706 0.44313726\n",
    "                    0.57254905 0.7490196\n",
    "                    0.57254905 0.7490196"
   ]
  },
  {
   "cell_type": "code",
   "execution_count": 1,
   "id": "6ee67d6f",
   "metadata": {},
   "outputs": [],
   "source": [
    "import numpy as np\n",
    "import matplotlib.pyplot as plt\n",
    "import unittest\n",
    "import random\n"
   ]
  },
  {
   "cell_type": "code",
   "execution_count": 3,
   "id": "8f1c4773",
   "metadata": {},
   "outputs": [],
   "source": [
    "val_data = np.load('val_data20kFEB23.npy')"
   ]
  },
  {
   "cell_type": "code",
   "execution_count": 4,
   "id": "dce16dfe",
   "metadata": {},
   "outputs": [
    {
     "name": "stdout",
     "output_type": "stream",
     "text": [
      "[[0.34117648 0.34117648 0.34117648 ... 0.34117648 0.34117648 0.34117648]\n",
      " [0.34117648 0.34117648 0.34117648 ... 0.34117648 0.34117648 0.34117648]\n",
      " [0.34117648 0.34117648 0.34117648 ... 0.34117648 0.34117648 0.34117648]\n",
      " ...\n",
      " [0.34117648 0.34117648 0.34117648 ... 0.34117648 0.34117648 0.34117648]\n",
      " [0.34117648 0.34117648 0.34117648 ... 0.34117648 0.34117648 0.34117648]\n",
      " [0.56078434 0.56078434 0.56078434 ... 0.56078434 0.56078434 0.56078434]]\n"
     ]
    },
    {
     "data": {
      "image/png": "[encoded data removed]",
      "text/plain": [
       "<Figure size 432x288 with 1 Axes>"
      ]
     },
     "metadata": {
      "needs_background": "light"
     },
     "output_type": "display_data"
    }
   ],
   "source": [
    "print(val_data[170])\n",
    "plt.imshow(val_data[170])\n",
    "plt.show()"
   ]
  },
  {
   "cell_type": "code",
   "execution_count": 28,
   "id": "b9fb5f42",
   "metadata": {},
   "outputs": [
    {
     "name": "stdout",
     "output_type": "stream",
     "text": [
      "[0.34117648 0.34117648 0.34117648 0.34117648 0.34117648 0.34117648\n",
      " 0.34117648 0.34117648 0.34117648 0.34117648 0.34117648 0.34117648\n",
      " 0.34117648 0.34117648 0.34117648 0.34117648 0.34117648 0.34117648\n",
      " 0.34117648 0.34117648 0.34117648 0.34117648 0.34117648 0.34117648\n",
      " 0.34117648 0.34117648 0.34117648 0.34117648 0.34117648 0.34117648\n",
      " 0.34117648 0.34117648 0.34117648 0.34117648 0.34117648 0.34117648\n",
      " 0.34117648 0.34117648 0.34117648 0.34117648 0.34117648 0.34117648\n",
      " 0.34117648 0.34117648 0.34117648 0.34117648 0.34117648 0.34117648\n",
      " 0.34117648 0.34117648 0.34117648 0.34117648 0.34117648 0.34117648\n",
      " 0.34117648 0.34117648 0.34117648 0.34117648 0.34117648 0.34117648\n",
      " 0.34117648 0.34117648 0.34117648 0.34117648 0.34117648 0.34117648\n",
      " 0.34117648 0.34117648 0.34117648 0.34117648 0.34117648 0.34117648\n",
      " 0.34117648 0.34117648 0.34117648 0.34117648 0.34117648 0.34117648\n",
      " 0.34117648 0.34117648 0.34117648 0.34117648 0.34117648 0.34117648]\n"
     ]
    }
   ],
   "source": [
    "print(val_data[170][26])"
   ]
  },
  {
   "cell_type": "code",
   "execution_count": 2,
   "id": "c21307dc",
   "metadata": {},
   "outputs": [],
   "source": [
    "#*******************\n",
    "# Generates data from input\n",
    "# :p1 left upper corner left paddle [-10, 84]\n",
    "# :p2 left upper corner right paddle [-10, 84]\n",
    "# :xBall, yBall coordinates ball center [1, 82] x [2, 82] (should not touch walls)\n",
    "# return sample image Y x X (first coordinate is y)\n",
    "#\n",
    "#********************\n",
    "\n",
    "def sample(p1, p2, xBall, yBall):\n",
    "    assert -10 <= p1 and p1  <= 84, 'p1 out of range'\n",
    "    assert -10 <= p2 and p2  <= 84, 'p2 out of range'\n",
    "    assert 1 <= xBall and xBall <= 82, 'xBall out of range'\n",
    "    assert 2 <= yBall and yBall <= 82, 'yBall out of range'\n",
    "    \n",
    "    arr = np.zeros((84, 84))\n",
    "\n",
    "    for i in range(p1, p1 + 10):\n",
    "        if i < 0 or i > 83: continue\n",
    "        arr[i][8:11] = 1\n",
    "        \n",
    "    for i in range(p2, p2 + 10):\n",
    "        if i < 0 or i > 83: continue\n",
    "        arr[i][73:76] = 1\n",
    "    \n",
    "    for i in range(yBall-2, yBall+2):\n",
    "        arr[i][xBall-1:xBall+2] = 1\n",
    "    \n",
    "    return arr"
   ]
  },
  {
   "cell_type": "code",
   "execution_count": 3,
   "id": "46e4e24a",
   "metadata": {},
   "outputs": [
    {
     "data": {
      "image/png": "[encoded data removed]",
      "text/plain": [
       "<Figure size 640x480 with 1 Axes>"
      ]
     },
     "metadata": {},
     "output_type": "display_data"
    }
   ],
   "source": [
    "plt.imshow(sample(-9, 83, 1,82))\n",
    "plt.show()"
   ]
  },
  {
   "cell_type": "markdown",
   "id": "296f42ca",
   "metadata": {},
   "source": [
    "Generate Training and validation data"
   ]
  },
  {
   "cell_type": "code",
   "execution_count": 4,
   "id": "4af9f756",
   "metadata": {},
   "outputs": [],
   "source": [
    "train_length = 100000 #100k\n",
    "val_length = 20000    #20k\n",
    "train_data = []\n",
    "val_data = []"
   ]
  },
  {
   "cell_type": "code",
   "execution_count": 5,
   "id": "4054f9d9",
   "metadata": {},
   "outputs": [
    {
     "name": "stdout",
     "output_type": "stream",
     "text": [
      "training data\n",
      "0\n",
      "1000\n",
      "2000\n",
      "3000\n",
      "4000\n",
      "5000\n",
      "6000\n",
      "7000\n",
      "8000\n",
      "9000\n",
      "10000\n",
      "11000\n",
      "12000\n",
      "13000\n",
      "14000\n",
      "15000\n",
      "16000\n",
      "17000\n",
      "18000\n",
      "19000\n",
      "20000\n",
      "21000\n",
      "22000\n",
      "23000\n",
      "24000\n",
      "25000\n",
      "26000\n",
      "27000\n",
      "28000\n",
      "29000\n",
      "30000\n",
      "31000\n",
      "32000\n",
      "33000\n",
      "34000\n",
      "35000\n",
      "36000\n",
      "37000\n",
      "38000\n",
      "39000\n",
      "40000\n",
      "41000\n",
      "42000\n",
      "43000\n",
      "44000\n",
      "45000\n",
      "46000\n",
      "47000\n",
      "48000\n",
      "49000\n",
      "50000\n",
      "51000\n",
      "52000\n",
      "53000\n",
      "54000\n",
      "55000\n",
      "56000\n",
      "57000\n",
      "58000\n",
      "59000\n",
      "60000\n",
      "61000\n",
      "62000\n",
      "63000\n",
      "64000\n",
      "65000\n",
      "66000\n",
      "67000\n",
      "68000\n",
      "69000\n",
      "70000\n",
      "71000\n",
      "72000\n",
      "73000\n",
      "74000\n",
      "75000\n",
      "76000\n",
      "77000\n",
      "78000\n",
      "79000\n",
      "80000\n",
      "81000\n",
      "82000\n",
      "83000\n",
      "84000\n",
      "85000\n",
      "86000\n",
      "87000\n",
      "88000\n",
      "89000\n",
      "90000\n",
      "91000\n",
      "92000\n",
      "93000\n",
      "94000\n",
      "95000\n",
      "96000\n",
      "97000\n",
      "98000\n",
      "99000\n",
      "validation data\n",
      "0\n",
      "1000\n",
      "2000\n",
      "3000\n",
      "4000\n",
      "5000\n",
      "6000\n",
      "7000\n",
      "8000\n",
      "9000\n",
      "10000\n",
      "11000\n",
      "12000\n",
      "13000\n",
      "14000\n",
      "15000\n",
      "16000\n",
      "17000\n",
      "18000\n",
      "19000\n"
     ]
    }
   ],
   "source": [
    "print(\"training data\")\n",
    "for i in range(train_length):\n",
    "    p1 = random.randrange(-10,84,1)\n",
    "    p2 = random.randrange(-10,84,1)\n",
    "    xBall = random.randrange(1,82,1)\n",
    "    yBall = random.randrange(1,82,1)\n",
    "    train_data.append(sample(p1, p2, xBall, yBall))\n",
    "    if i % 1000 == 0: print(i)\n",
    "        \n",
    "print(\"validation data\")\n",
    "for i in range(val_length):\n",
    "    p1 = random.randrange(-10,84,1)\n",
    "    p2 = random.randrange(-10,84,1)\n",
    "    xBall = random.randrange(1,82,1)\n",
    "    yBall = random.randrange(1,82,1)\n",
    "    val_data.append(sample(p1, p2, xBall, yBall))\n",
    "    if i % 1000 == 0: print(i)"
   ]
  },
  {
   "cell_type": "code",
   "execution_count": 6,
   "id": "d2586609",
   "metadata": {},
   "outputs": [
    {
     "name": "stdout",
     "output_type": "stream",
     "text": [
      "100000\n",
      "20000\n"
     ]
    },
    {
     "data": {
      "image/png": "[encoded data removed]",
      "text/plain": [
       "<Figure size 640x480 with 1 Axes>"
      ]
     },
     "metadata": {},
     "output_type": "display_data"
    }
   ],
   "source": [
    "print(len(train_data))\n",
    "print(len(val_data))\n",
    "plt.imshow(train_data[6])\n",
    "plt.show()"
   ]
  },
  {
   "cell_type": "markdown",
   "id": "0e5ad0eb",
   "metadata": {},
   "source": [
    "Convert to float 32 from double64"
   ]
  },
  {
   "cell_type": "code",
   "execution_count": 7,
   "id": "995b2646",
   "metadata": {},
   "outputs": [],
   "source": [
    "tain_data_np = np.asarray(train_data)\n",
    "val_data_np = np.asarray(val_data)"
   ]
  },
  {
   "cell_type": "code",
   "execution_count": 8,
   "id": "1e6c9284",
   "metadata": {},
   "outputs": [
    {
     "data": {
      "text/plain": [
       "dtype('float64')"
      ]
     },
     "execution_count": 8,
     "metadata": {},
     "output_type": "execute_result"
    }
   ],
   "source": [
    "val_data_np.dtype\n",
    "tain_data_np.dtype"
   ]
  },
  {
   "cell_type": "code",
   "execution_count": 9,
   "id": "141ef645",
   "metadata": {},
   "outputs": [
    {
     "name": "stdout",
     "output_type": "stream",
     "text": [
      "float32\n",
      "float32\n"
     ]
    }
   ],
   "source": [
    "train_data_np2 = tain_data_np.astype(dtype=np.float32)\n",
    "val_data_np2 = val_data_np.astype(dtype=np.float32)\n",
    "print(val_data_np2.dtype)\n",
    "print(train_data_np2.dtype)"
   ]
  },
  {
   "cell_type": "code",
   "execution_count": 10,
   "id": "20b4137a",
   "metadata": {},
   "outputs": [],
   "source": [
    "np.save( \"train_data100kMAR22\", train_data_np2)\n",
    "np.save( \"val_data20kMAR22\", val_data_np2)"
   ]
  },
  {
   "cell_type": "code",
   "execution_count": null,
   "id": "439e984d",
   "metadata": {},
   "outputs": [],
   "source": []
  }
 ],
 "metadata": {
  "kernelspec": {
   "display_name": "Python 3",
   "language": "python",
   "name": "python3"
  },
  "language_info": {
   "codemirror_mode": {
    "name": "ipython",
    "version": 3
   },
   "file_extension": ".py",
   "mimetype": "text/x-python",
   "name": "python",
   "nbconvert_exporter": "python",
   "pygments_lexer": "ipython3",
   "version": "3.7.11"
  }
 },
 "nbformat": 4,
 "nbformat_minor": 5
}
