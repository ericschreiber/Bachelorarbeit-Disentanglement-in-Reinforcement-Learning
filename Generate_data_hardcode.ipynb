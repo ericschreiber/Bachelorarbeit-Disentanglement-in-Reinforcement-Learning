{
 "cells": [
  {
   "cell_type": "markdown",
   "id": "88f5bc45",
   "metadata": {},
   "source": [
    "Paddle: 10 x 2 px @ 8,9,10 px & 73,74,75 vertical (counting from 0)\n",
    "        paddles can go out of the picture.\n",
    "        paddle form 0.45882353 0.5764706  0.48235294\n",
    "        \n",
    "Ball:   3 x 4 px \\\n",
    "         should be \\\n",
    "             XX \\\n",
    "            XXXX \\\n",
    "           XXXXXX \\\n",
    "            XXXX \\\n",
    "             XX \\\n",
    "        ball form:             0.827451   0.4392157 \\\n",
    "                    0.5529412  0.91764706 0.44313726 \\\n",
    "                    0.57254905 0.7490196 \\\n",
    "                    0.57254905 0.7490196 \\"
   ]
  },
  {
   "cell_type": "code",
   "execution_count": 1,
   "id": "6ee67d6f",
   "metadata": {},
   "outputs": [],
   "source": [
    "import numpy as np\n",
    "import matplotlib.pyplot as plt\n",
    "import unittest\n",
    "import random\n"
   ]
  },
  {
   "cell_type": "code",
   "execution_count": 2,
   "id": "8f1c4773",
   "metadata": {},
   "outputs": [],
   "source": [
    "val_data = np.load('val_data20kFEB23.npy')"
   ]
  },
  {
   "cell_type": "code",
   "execution_count": 3,
   "id": "dce16dfe",
   "metadata": {},
   "outputs": [
    {
     "name": "stdout",
     "output_type": "stream",
     "text": [
      "[[0.34117648 0.34117648 0.34117648 ... 0.34117648 0.34117648 0.34117648]\n",
      " [0.34117648 0.34117648 0.34117648 ... 0.34117648 0.34117648 0.34117648]\n",
      " [0.34117648 0.34117648 0.34117648 ... 0.34117648 0.34117648 0.34117648]\n",
      " ...\n",
      " [0.34117648 0.34117648 0.34117648 ... 0.34117648 0.34117648 0.34117648]\n",
      " [0.34117648 0.34117648 0.34117648 ... 0.34117648 0.34117648 0.34117648]\n",
      " [0.56078434 0.56078434 0.56078434 ... 0.56078434 0.56078434 0.56078434]]\n"
     ]
    },
    {
     "data": {
      "image/png": "[encoded data removed]",
      "text/plain": [
       "<Figure size 640x480 with 1 Axes>"
      ]
     },
     "metadata": {},
     "output_type": "display_data"
    }
   ],
   "source": [
    "print(val_data[170])\n",
    "plt.imshow(val_data[170])\n",
    "plt.show()"
   ]
  },
  {
   "cell_type": "code",
   "execution_count": 4,
   "id": "b9fb5f42",
   "metadata": {},
   "outputs": [
    {
     "name": "stdout",
     "output_type": "stream",
     "text": [
      "[0.34117648 0.34117648 0.34117648 0.34117648 0.34117648 0.34117648\n",
      " 0.34117648 0.34117648 0.34117648 0.34117648 0.34117648 0.34117648\n",
      " 0.34117648 0.34117648 0.34117648 0.34117648 0.34117648 0.34117648\n",
      " 0.34117648 0.34117648 0.34117648 0.34117648 0.34117648 0.34117648\n",
      " 0.34117648 0.34117648 0.34117648 0.34117648 0.34117648 0.34117648\n",
      " 0.34117648 0.34117648 0.34117648 0.34117648 0.34117648 0.34117648\n",
      " 0.34117648 0.34117648 0.34117648 0.34117648 0.34117648 0.34117648\n",
      " 0.34117648 0.34117648 0.34117648 0.34117648 0.34117648 0.34117648\n",
      " 0.34117648 0.34117648 0.34117648 0.34117648 0.34117648 0.34117648\n",
      " 0.34117648 0.34117648 0.34117648 0.34117648 0.34117648 0.34117648\n",
      " 0.34117648 0.34117648 0.34117648 0.34117648 0.34117648 0.34117648\n",
      " 0.34117648 0.34117648 0.34117648 0.34117648 0.34117648 0.34117648\n",
      " 0.34117648 0.34117648 0.34117648 0.34117648 0.34117648 0.34117648\n",
      " 0.34117648 0.34117648 0.34117648 0.34117648 0.34117648 0.34117648]\n"
     ]
    }
   ],
   "source": [
    "print(val_data[170][26])"
   ]
  },
  {
   "cell_type": "code",
   "execution_count": 2,
   "id": "c21307dc",
   "metadata": {},
   "outputs": [],
   "source": [
    "#*******************\n",
    "# Generates data from input\n",
    "# :p1 left upper corner left paddle [-10, 84]\n",
    "# :p2 left upper corner right paddle [-10, 84]\n",
    "# :xBall, yBall coordinates ball center [1, 82] x [2, 82] (should not touch walls)\n",
    "# return sample image Y x X (first coordinate is y)\n",
    "#\n",
    "#********************\n",
    "\n",
    "def sample(p1, p2, xBall, yBall):\n",
    "    assert -10 <= p1 and p1  <= 84, 'p1 out of range'\n",
    "    assert -10 <= p2 and p2  <= 84, 'p2 out of range'\n",
    "    assert 1 <= xBall and xBall <= 82, 'xBall out of range'\n",
    "    assert 1 <= yBall and yBall <= 82, 'yBall out of range'\n",
    "    \n",
    "    arr = np.zeros((84, 84))\n",
    "\n",
    "    for i in range(p1, p1 + 10):\n",
    "        if i < 0 or i > 83: continue\n",
    "        arr[i][8:11] = 1\n",
    "        \n",
    "    for i in range(p2, p2 + 10):\n",
    "        if i < 0 or i > 83: continue\n",
    "        arr[i][73:76] = 1\n",
    "    \n",
    "    for i in range(yBall-2, yBall+2):\n",
    "        arr[i][xBall-1:xBall+2] = 1\n",
    "    \n",
    "    return arr\n"
   ]
  },
  {
   "cell_type": "code",
   "execution_count": 3,
   "id": "dee676dc",
   "metadata": {},
   "outputs": [],
   "source": [
    "#*******************\n",
    "# Generates data from input\n",
    "#\n",
    "# :xBall, yBall coordinates ball center [1, 82] x [2, 82] (should not touch walls)\n",
    "# return sample image Y x X (first coordinate is y)\n",
    "#\n",
    "#********************\n",
    "\n",
    "def sampleBALL(xBall, yBall):\n",
    "    assert 1 <= xBall and xBall <= 82, 'xBall out of range'\n",
    "    assert 1 <= yBall and yBall <= 82, 'yBall out of range'\n",
    "    \n",
    "    arr = np.zeros((84, 84))\n",
    "    \n",
    "    for i in range(yBall-2, yBall+2):\n",
    "        arr[i][xBall-1:xBall+2] = 1\n",
    "    \n",
    "    return arr\n"
   ]
  },
  {
   "cell_type": "code",
   "execution_count": 4,
   "id": "c2602b31",
   "metadata": {},
   "outputs": [],
   "source": [
    "def makeValid(p1, p2, xBall, yBall):\n",
    "    if p1 < -10:\n",
    "        p1 = -9 #we dont want it to be the same again\n",
    "    elif p1 > 84:\n",
    "        p1 = 83\n",
    "    if p2 < -10:\n",
    "        p1 = -9\n",
    "    elif p2 > 84:\n",
    "        p1 = 83\n",
    "        \n",
    "    if xBall < 1:\n",
    "        xBall = 2\n",
    "    elif xBall > 82:\n",
    "        xBall = 81\n",
    "        \n",
    "    if yBall < 1:\n",
    "        yBall = 2\n",
    "    elif yBall > 82:\n",
    "        yBall = 81\n",
    "    \n",
    "    return p1, p2, xBall, yBall"
   ]
  },
  {
   "cell_type": "code",
   "execution_count": 5,
   "id": "5addf3b5",
   "metadata": {},
   "outputs": [],
   "source": [
    "#*******************\n",
    "# Generates data from input\n",
    "# :p1 left upper corner left paddle [-10, 84]\n",
    "# :p2 left upper corner right paddle [-10, 84]\n",
    "# :xBall, yBall coordinates ball center [1, 82] x [2, 82] (should not touch walls)\n",
    "# return sample buffer 4x Y x X (first coordinate is y) Bilder abfolgend mit 1 px Unterschied\n",
    "#\n",
    "#********************\n",
    "def sampleBuffer():\n",
    "    \n",
    "    arr = np.empty((4,84,84))\n",
    "    p1 = random.randrange(-10,84,1)\n",
    "    p2 = random.randrange(-10,84,1)\n",
    "    xBall = random.randrange(1,82,1)\n",
    "    yBall = random.randrange(1,82,1)\n",
    "    \n",
    "    for i in range(4):\n",
    "        arr[i] = sample(p1, p2, xBall, yBall)\n",
    "        p1 += random.randrange(-2, 2, 2)\n",
    "        p2 += random.randrange(-2, 2, 2)\n",
    "        xBall += random.randrange(-2, 2, 2)\n",
    "        yBall += random.randrange(-2, 2, 2)\n",
    "        \n",
    "        p1, p2, xBall, yBall = makeValid(p1, p2, xBall, yBall)\n",
    "    \n",
    "    return arr"
   ]
  },
  {
   "cell_type": "code",
   "execution_count": 6,
   "id": "ec8a758d",
   "metadata": {},
   "outputs": [],
   "source": [
    "def makeValidUPDoWN(p1, p2, xBall, yBall, p1change, p2change, xBallchange, yBallchange, stepsize):\n",
    "    \n",
    "    if p1 <= -10 + stepsize:\n",
    "        p1change = 1 #we dont want it to be the same again\n",
    "    elif p1 >= 84- stepsize:\n",
    "        p1change = -1\n",
    "    if p2 <= -10 + stepsize:\n",
    "        p2change = 1\n",
    "    elif p2 >= 84- stepsize:\n",
    "        p2change = -1\n",
    "        \n",
    "    if xBall <= 1 + stepsize:\n",
    "        xBallchange = 1\n",
    "    elif xBall >= 82 - stepsize:\n",
    "        xBallchange = -1\n",
    "        \n",
    "    if yBall <= 1 + stepsize:\n",
    "        yBallchange = 1\n",
    "    elif yBall >= 82- stepsize:\n",
    "        yBallchange = -1\n",
    "    \n",
    "    return p1change, p2change, xBallchange, yBallchange"
   ]
  },
  {
   "cell_type": "code",
   "execution_count": 7,
   "id": "f66cec62",
   "metadata": {},
   "outputs": [],
   "source": [
    "##############################################\n",
    "#\n",
    "# sorgt dafür, dass der Ball nur innerhalb der Paddles bleibt\n",
    "#\n",
    "##############################################\n",
    "def makeValidUPDoWNinnerhalbPADDLES(p1, p2, xBall, yBall, p1change, p2change, xBallchange, yBallchange, stepsize):\n",
    "    \n",
    "    if p1 <= -10 + stepsize:\n",
    "        p1change = 1 #we dont want it to be the same again\n",
    "    elif p1 >= 84- stepsize:\n",
    "        p1change = -1\n",
    "    if p2 <= -10 + stepsize:\n",
    "        p2change = 1\n",
    "    elif p2 >= 84- stepsize:\n",
    "        p2change = -1\n",
    "        \n",
    "    if xBall <= 12 + stepsize:\n",
    "        xBallchange = 1\n",
    "    elif xBall >= 72 - stepsize:\n",
    "        xBallchange = -1\n",
    "        \n",
    "    if yBall <= 1 + stepsize:\n",
    "        yBallchange = 1\n",
    "    elif yBall >= 82- stepsize:\n",
    "        yBallchange = -1\n",
    "    \n",
    "    return p1change, p2change, xBallchange, yBallchange"
   ]
  },
  {
   "cell_type": "code",
   "execution_count": 8,
   "id": "33cfb678",
   "metadata": {},
   "outputs": [],
   "source": [
    "#*******************\n",
    "# Generates data from input\n",
    "# :p1 left upper corner left paddle [-10, 84]\n",
    "# :p2 left upper corner right paddle [-10, 84]\n",
    "# :xBall, yBall coordinates ball center [1, 82] x [2, 82] (should not touch walls)\n",
    "# return sample buffer 4x Y x X (first coordinate is y) Bilder abfolgend mit 1 px Unterschied\n",
    "#\n",
    "#********************\n",
    "def sampleBufferDirection(p1, p2, xBall, yBall):\n",
    "    labels = []\n",
    "    arr = np.empty((4,84,84))\n",
    "    stepsize = 2\n",
    "    \n",
    "    p1change = random.randrange(-1,2,2) #upper bound is not included. Lower is\n",
    "    p2change = random.randrange(-1,2,2)\n",
    "    xBallchange = random.randrange(-1,2,2)\n",
    "    yBallchange = random.randrange(-1,2,2)\n",
    "    \n",
    "    for i in range(4):\n",
    "        \n",
    "        #print(f\"1 xBall: {xBall},xBallchange: {xBallchange}, yBallchange: {yBallchange}, yBall: {yBall}\")\n",
    "        p1change, p2change, xBallchange, yBallchange = makeValidUPDoWN(p1, p2, xBall, yBall, p1change, p2change, xBallchange, yBallchange, stepsize)\n",
    "        #print(f\"2 xBall: {xBall},xBallchange: {xBallchange}, yBallchange: {yBallchange}, yBall: {yBall}\")\n",
    "        #print(\" \")\n",
    "        labels.append((p1, p2, xBall, yBall))\n",
    "        \n",
    "        arr[i] = sample(p1, p2, xBall, yBall)\n",
    "        p1 += p1change * stepsize\n",
    "        p2 += p2change * stepsize\n",
    "        xBall += xBallchange * stepsize\n",
    "        yBall += yBallchange * stepsize\n",
    "        \n",
    "        \n",
    "    return arr, labels"
   ]
  },
  {
   "cell_type": "code",
   "execution_count": 10,
   "id": "60fc44cc",
   "metadata": {},
   "outputs": [],
   "source": [
    "#*******************\n",
    "# Generates Pictures of 2x2 with Abfolge right to left then down right to left. For L1 Jacobian\n",
    "# :p1 left upper corner left paddle [-10, 84]\n",
    "# :p2 left upper corner right paddle [-10, 84]\n",
    "# :xBall, yBall coordinates ball center [1, 82] x [2, 82] (should not touch walls)\n",
    "# return sample 2x2 Picture (1, 2 up & 3, 4 are down) with subpictures of 2 px change\n",
    "#\n",
    "#********************\n",
    "def sample2x2(p1, p2, xBall, yBall):\n",
    "    labels = []\n",
    "    arr = np.empty((4,84,84))\n",
    "    stepsize = 2\n",
    "    \n",
    "    p1change = random.randrange(-1,2,2) #upper bound is not included. Lower is\n",
    "    p2change = random.randrange(-1,2,2)\n",
    "    xBallchange = random.randrange(-1,2,2)\n",
    "    yBallchange = random.randrange(-1,2,2)\n",
    "    \n",
    "    for i in range(4):\n",
    "        \n",
    "        p1change, p2change, xBallchange, yBallchange = makeValidUPDoWN(p1, p2, xBall, yBall, p1change, p2change, xBallchange, yBallchange, stepsize)\n",
    "        labels.append((p1, p2, xBall, yBall))\n",
    "        \n",
    "        arr[i] = sample(p1, p2, xBall, yBall)\n",
    "        p1 += p1change * stepsize\n",
    "        p2 += p2change * stepsize\n",
    "        xBall += xBallchange * stepsize\n",
    "        yBall += yBallchange * stepsize\n",
    "        \n",
    "    h1 = np.concatenate((arr[0], arr[1]), axis=0)\n",
    "    h2 = np.concatenate((arr[2], arr[3]), axis=0)\n",
    "    picture = np.concatenate((h1, h2), axis=1)\n",
    "    return picture, labels"
   ]
  },
  {
   "cell_type": "code",
   "execution_count": 14,
   "id": "0593dc35",
   "metadata": {},
   "outputs": [],
   "source": [
    "#*******************\n",
    "# returns an image of a square if sq == True\n",
    "#\n",
    "#********************\n",
    "def square(sq):\n",
    "    arr = np.zeros((84, 84))\n",
    "    \n",
    "    if sq == True:\n",
    "        for i in range(30,60):\n",
    "            arr[i][30:60] = 1\n",
    "    \n",
    "    return arr"
   ]
  },
  {
   "cell_type": "code",
   "execution_count": 27,
   "id": "c6879749",
   "metadata": {},
   "outputs": [],
   "source": [
    "#*******************\n",
    "# returns an image of a square \n",
    "# :p1 left upper corner left paddle [0, 76]\n",
    "# :p2 left upper corner right paddle [0, 76]\n",
    "#\n",
    "#********************\n",
    "def squareMoving(p1, p2):\n",
    "    arr = np.zeros((84, 84))\n",
    "    labels = (p1, p2)\n",
    "    \n",
    "    for i in range(p1,p1+8):\n",
    "        arr[i][p2:p2+8] = 1\n",
    "    \n",
    "    return arr, labels"
   ]
  },
  {
   "cell_type": "code",
   "execution_count": 12,
   "id": "46e4e24a",
   "metadata": {
    "collapsed": true
   },
   "outputs": [
    {
     "data": {
      "image/png": "[encoded data removed]",
      "text/plain": [
       "<Figure size 640x480 with 1 Axes>"
      ]
     },
     "metadata": {},
     "output_type": "display_data"
    }
   ],
   "source": [
    "plt.imshow(sample(-9, 83, 1,82))\n",
    "plt.show()"
   ]
  },
  {
   "cell_type": "code",
   "execution_count": 25,
   "id": "543b1685",
   "metadata": {
    "collapsed": true
   },
   "outputs": [
    {
     "data": {
      "image/png": "[encoded data removed]",
      "text/plain": [
       "<Figure size 640x480 with 1 Axes>"
      ]
     },
     "metadata": {},
     "output_type": "display_data"
    }
   ],
   "source": [
    "plt.imshow(sample2x2(10, 50, 35,60)[0])\n",
    "plt.show()"
   ]
  },
  {
   "cell_type": "code",
   "execution_count": 15,
   "id": "1941a22e",
   "metadata": {
    "collapsed": true
   },
   "outputs": [
    {
     "data": {
      "image/png": "[encoded data removed]",
      "text/plain": [
       "<Figure size 640x480 with 1 Axes>"
      ]
     },
     "metadata": {},
     "output_type": "display_data"
    }
   ],
   "source": [
    "#plt.imshow(square(True))\n",
    "#plt.show()"
   ]
  },
  {
   "cell_type": "code",
   "execution_count": 28,
   "id": "c998e163",
   "metadata": {},
   "outputs": [
    {
     "data": {
      "image/png": "[encoded data removed]",
      "text/plain": [
       "<Figure size 640x480 with 1 Axes>"
      ]
     },
     "metadata": {},
     "output_type": "display_data"
    }
   ],
   "source": [
    "plt.imshow(squareMoving(65, 35)[0])\n",
    "plt.show()"
   ]
  },
  {
   "cell_type": "code",
   "execution_count": 11,
   "id": "2711cc06",
   "metadata": {},
   "outputs": [],
   "source": [
    "\n",
    "p1 = random.randrange(-10,84,1)\n",
    "p2 = random.randrange(-10,84,1)\n",
    "xBall = random.randrange(1,82,1)\n",
    "yBall = random.randrange(1,82,1)\n",
    "\n",
    "arr = sampleBufferDirection(p1, p2, xBall, yBall)\n"
   ]
  },
  {
   "cell_type": "code",
   "execution_count": 14,
   "id": "a4873574",
   "metadata": {
    "collapsed": true
   },
   "outputs": [
    {
     "data": {
      "image/png": "[encoded data removed]",
      "text/plain": [
       "<Figure size 8400x8400 with 4 Axes>"
      ]
     },
     "metadata": {},
     "output_type": "display_data"
    }
   ],
   "source": [
    "fig = plt.figure(figsize=(84, 84))\n",
    "columns = 4\n",
    "rows = 1\n",
    "for i in range(1, columns*rows +1):\n",
    "    fig.add_subplot(rows, columns, i)\n",
    "    plt.imshow(arr[0][i-1])\n",
    "plt.show()"
   ]
  },
  {
   "cell_type": "markdown",
   "id": "296f42ca",
   "metadata": {},
   "source": [
    "Generate Training and validation data\n",
    "---"
   ]
  },
  {
   "cell_type": "code",
   "execution_count": 23,
   "id": "4af9f756",
   "metadata": {},
   "outputs": [],
   "source": [
    "train_length = 30000 #100k for single images 30k for 4Buffer\n",
    "val_length = 8000    #20k for single images 8k for 8 Buffer\n",
    "train_data = []\n",
    "train_GT_Labels = []\n",
    "val_data = []\n",
    "val_GT_Labels = []"
   ]
  },
  {
   "cell_type": "code",
   "execution_count": 24,
   "id": "4054f9d9",
   "metadata": {
    "scrolled": true
   },
   "outputs": [
    {
     "name": "stdout",
     "output_type": "stream",
     "text": [
      "training data\n",
      "0\n",
      "1000\n",
      "2000\n",
      "3000\n",
      "4000\n",
      "5000\n",
      "6000\n",
      "7000\n",
      "8000\n",
      "9000\n",
      "10000\n",
      "11000\n",
      "12000\n",
      "13000\n",
      "14000\n",
      "15000\n",
      "16000\n",
      "17000\n",
      "18000\n",
      "19000\n",
      "20000\n",
      "21000\n",
      "22000\n",
      "23000\n",
      "24000\n",
      "25000\n",
      "26000\n",
      "27000\n",
      "28000\n",
      "29000\n",
      "validation data\n",
      "0\n",
      "1000\n",
      "2000\n",
      "3000\n",
      "4000\n",
      "5000\n",
      "6000\n",
      "7000\n"
     ]
    }
   ],
   "source": [
    "print(\"training data\")\n",
    "for i in range(train_length):\n",
    "    p1 = random.randrange(-10,84,1)\n",
    "    p2 = random.randrange(-10,84,1)\n",
    "    xBall = random.randrange(1,82,1) \n",
    "    yBall = random.randrange(1,82,1)\n",
    "    SQ1 = random.randrange(0,76,1)\n",
    "    SQ2 = random.randrange(0,76,1)\n",
    "    #train_data.append(sample(p1, p2, xBall, yBall))\n",
    "    ret = sampleBufferDirection(p1, p2, xBall, yBall)\n",
    "    #ret = sample2x2(p1, p2, xBall, yBall)\n",
    "    #ret = squareMoving(SQ1, SQ2)\n",
    "    train_data.append(ret[0])\n",
    "    train_GT_Labels.append(ret[1])\n",
    "    \n",
    "    #sq = bool(random.getrandbits(1))\n",
    "    #train_GT_Labels.append(sq)\n",
    "    #train_data.append(square(sq))\n",
    "    \n",
    "    if i % 1000 == 0: print(i)\n",
    "        \n",
    "print(\"validation data\")\n",
    "for i in range(val_length):\n",
    "    p1 = random.randrange(-10,84,1)\n",
    "    p2 = random.randrange(-10,84,1)\n",
    "    xBall = random.randrange(1,82,1) \n",
    "    yBall = random.randrange(1,82,1)\n",
    "    SQ1 = random.randrange(0,76,1)\n",
    "    SQ2 = random.randrange(0,76,1)\n",
    "    #val_data.append(sample(p1, p2, xBall, yBall))\n",
    "    ret = sampleBufferDirection(p1, p2, xBall, yBall)\n",
    "    #ret = sample2x2(p1, p2, xBall, yBall)\n",
    "    #ret = squareMoving(SQ1, SQ2)\n",
    "    val_data.append(ret[0])\n",
    "    val_GT_Labels.append(ret[1])\n",
    "    \n",
    "    #sq = bool(random.getrandbits(1))\n",
    "    #val_GT_Labels.append(sq)\n",
    "    #val_data.append(square(sq))\n",
    "    \n",
    "    if i % 1000 == 0: print(i)"
   ]
  },
  {
   "cell_type": "code",
   "execution_count": 11,
   "id": "2726efb2",
   "metadata": {},
   "outputs": [
    {
     "name": "stdout",
     "output_type": "stream",
     "text": [
      "30000\n"
     ]
    }
   ],
   "source": [
    "print(len(train_GT_Labels))"
   ]
  },
  {
   "cell_type": "code",
   "execution_count": 29,
   "id": "d2586609",
   "metadata": {
    "collapsed": true
   },
   "outputs": [
    {
     "name": "stdout",
     "output_type": "stream",
     "text": [
      "30000\n",
      "8000\n"
     ]
    },
    {
     "ename": "TypeError",
     "evalue": "Invalid shape (168,) for image data",
     "output_type": "error",
     "traceback": [
      "\u001b[1;31m---------------------------------------------------------------------------\u001b[0m",
      "\u001b[1;31mTypeError\u001b[0m                                 Traceback (most recent call last)",
      "\u001b[1;32m<ipython-input-29-1c6bb7a614ca>\u001b[0m in \u001b[0;36m<module>\u001b[1;34m\u001b[0m\n\u001b[0;32m      8\u001b[0m \u001b[1;32mfor\u001b[0m \u001b[0mi\u001b[0m \u001b[1;32min\u001b[0m \u001b[0mrange\u001b[0m\u001b[1;33m(\u001b[0m\u001b[1;36m1\u001b[0m\u001b[1;33m,\u001b[0m \u001b[0mcolumns\u001b[0m\u001b[1;33m*\u001b[0m\u001b[0mrows\u001b[0m \u001b[1;33m+\u001b[0m\u001b[1;36m1\u001b[0m\u001b[1;33m)\u001b[0m\u001b[1;33m:\u001b[0m\u001b[1;33m\u001b[0m\u001b[1;33m\u001b[0m\u001b[0m\n\u001b[0;32m      9\u001b[0m     \u001b[0mfig\u001b[0m\u001b[1;33m.\u001b[0m\u001b[0madd_subplot\u001b[0m\u001b[1;33m(\u001b[0m\u001b[0mrows\u001b[0m\u001b[1;33m,\u001b[0m \u001b[0mcolumns\u001b[0m\u001b[1;33m,\u001b[0m \u001b[0mi\u001b[0m\u001b[1;33m)\u001b[0m\u001b[1;33m\u001b[0m\u001b[1;33m\u001b[0m\u001b[0m\n\u001b[1;32m---> 10\u001b[1;33m     \u001b[0mplt\u001b[0m\u001b[1;33m.\u001b[0m\u001b[0mimshow\u001b[0m\u001b[1;33m(\u001b[0m\u001b[0mtrain_data\u001b[0m\u001b[1;33m[\u001b[0m\u001b[1;36m6\u001b[0m\u001b[1;33m]\u001b[0m\u001b[1;33m[\u001b[0m\u001b[0mi\u001b[0m\u001b[1;33m-\u001b[0m\u001b[1;36m1\u001b[0m\u001b[1;33m]\u001b[0m\u001b[1;33m)\u001b[0m\u001b[1;33m\u001b[0m\u001b[1;33m\u001b[0m\u001b[0m\n\u001b[0m\u001b[0;32m     11\u001b[0m \u001b[0mplt\u001b[0m\u001b[1;33m.\u001b[0m\u001b[0mshow\u001b[0m\u001b[1;33m(\u001b[0m\u001b[1;33m)\u001b[0m\u001b[1;33m\u001b[0m\u001b[1;33m\u001b[0m\u001b[0m\n",
      "\u001b[1;32m~\\anaconda3\\envs\\PyTorchRL\\lib\\site-packages\\matplotlib\\_api\\deprecation.py\u001b[0m in \u001b[0;36mwrapper\u001b[1;34m(*args, **kwargs)\u001b[0m\n\u001b[0;32m    454\u001b[0m                 \u001b[1;34m\"parameter will become keyword-only %(removal)s.\"\u001b[0m\u001b[1;33m,\u001b[0m\u001b[1;33m\u001b[0m\u001b[1;33m\u001b[0m\u001b[0m\n\u001b[0;32m    455\u001b[0m                 name=name, obj_type=f\"parameter of {func.__name__}()\")\n\u001b[1;32m--> 456\u001b[1;33m         \u001b[1;32mreturn\u001b[0m \u001b[0mfunc\u001b[0m\u001b[1;33m(\u001b[0m\u001b[1;33m*\u001b[0m\u001b[0margs\u001b[0m\u001b[1;33m,\u001b[0m \u001b[1;33m**\u001b[0m\u001b[0mkwargs\u001b[0m\u001b[1;33m)\u001b[0m\u001b[1;33m\u001b[0m\u001b[1;33m\u001b[0m\u001b[0m\n\u001b[0m\u001b[0;32m    457\u001b[0m \u001b[1;33m\u001b[0m\u001b[0m\n\u001b[0;32m    458\u001b[0m     \u001b[1;31m# Don't modify *func*'s signature, as boilerplate.py needs it.\u001b[0m\u001b[1;33m\u001b[0m\u001b[1;33m\u001b[0m\u001b[1;33m\u001b[0m\u001b[0m\n",
      "\u001b[1;32m~\\anaconda3\\envs\\PyTorchRL\\lib\\site-packages\\matplotlib\\pyplot.py\u001b[0m in \u001b[0;36mimshow\u001b[1;34m(X, cmap, norm, aspect, interpolation, alpha, vmin, vmax, origin, extent, interpolation_stage, filternorm, filterrad, resample, url, data, **kwargs)\u001b[0m\n\u001b[0;32m   2645\u001b[0m         \u001b[0mfilternorm\u001b[0m\u001b[1;33m=\u001b[0m\u001b[0mfilternorm\u001b[0m\u001b[1;33m,\u001b[0m \u001b[0mfilterrad\u001b[0m\u001b[1;33m=\u001b[0m\u001b[0mfilterrad\u001b[0m\u001b[1;33m,\u001b[0m \u001b[0mresample\u001b[0m\u001b[1;33m=\u001b[0m\u001b[0mresample\u001b[0m\u001b[1;33m,\u001b[0m\u001b[1;33m\u001b[0m\u001b[1;33m\u001b[0m\u001b[0m\n\u001b[0;32m   2646\u001b[0m         \u001b[0murl\u001b[0m\u001b[1;33m=\u001b[0m\u001b[0murl\u001b[0m\u001b[1;33m,\u001b[0m \u001b[1;33m**\u001b[0m\u001b[1;33m(\u001b[0m\u001b[1;33m{\u001b[0m\u001b[1;34m\"data\"\u001b[0m\u001b[1;33m:\u001b[0m \u001b[0mdata\u001b[0m\u001b[1;33m}\u001b[0m \u001b[1;32mif\u001b[0m \u001b[0mdata\u001b[0m \u001b[1;32mis\u001b[0m \u001b[1;32mnot\u001b[0m \u001b[1;32mNone\u001b[0m \u001b[1;32melse\u001b[0m \u001b[1;33m{\u001b[0m\u001b[1;33m}\u001b[0m\u001b[1;33m)\u001b[0m\u001b[1;33m,\u001b[0m\u001b[1;33m\u001b[0m\u001b[1;33m\u001b[0m\u001b[0m\n\u001b[1;32m-> 2647\u001b[1;33m         **kwargs)\n\u001b[0m\u001b[0;32m   2648\u001b[0m     \u001b[0msci\u001b[0m\u001b[1;33m(\u001b[0m\u001b[0m__ret\u001b[0m\u001b[1;33m)\u001b[0m\u001b[1;33m\u001b[0m\u001b[1;33m\u001b[0m\u001b[0m\n\u001b[0;32m   2649\u001b[0m     \u001b[1;32mreturn\u001b[0m \u001b[0m__ret\u001b[0m\u001b[1;33m\u001b[0m\u001b[1;33m\u001b[0m\u001b[0m\n",
      "\u001b[1;32m~\\anaconda3\\envs\\PyTorchRL\\lib\\site-packages\\matplotlib\\_api\\deprecation.py\u001b[0m in \u001b[0;36mwrapper\u001b[1;34m(*args, **kwargs)\u001b[0m\n\u001b[0;32m    454\u001b[0m                 \u001b[1;34m\"parameter will become keyword-only %(removal)s.\"\u001b[0m\u001b[1;33m,\u001b[0m\u001b[1;33m\u001b[0m\u001b[1;33m\u001b[0m\u001b[0m\n\u001b[0;32m    455\u001b[0m                 name=name, obj_type=f\"parameter of {func.__name__}()\")\n\u001b[1;32m--> 456\u001b[1;33m         \u001b[1;32mreturn\u001b[0m \u001b[0mfunc\u001b[0m\u001b[1;33m(\u001b[0m\u001b[1;33m*\u001b[0m\u001b[0margs\u001b[0m\u001b[1;33m,\u001b[0m \u001b[1;33m**\u001b[0m\u001b[0mkwargs\u001b[0m\u001b[1;33m)\u001b[0m\u001b[1;33m\u001b[0m\u001b[1;33m\u001b[0m\u001b[0m\n\u001b[0m\u001b[0;32m    457\u001b[0m \u001b[1;33m\u001b[0m\u001b[0m\n\u001b[0;32m    458\u001b[0m     \u001b[1;31m# Don't modify *func*'s signature, as boilerplate.py needs it.\u001b[0m\u001b[1;33m\u001b[0m\u001b[1;33m\u001b[0m\u001b[1;33m\u001b[0m\u001b[0m\n",
      "\u001b[1;32m~\\anaconda3\\envs\\PyTorchRL\\lib\\site-packages\\matplotlib\\__init__.py\u001b[0m in \u001b[0;36minner\u001b[1;34m(ax, data, *args, **kwargs)\u001b[0m\n\u001b[0;32m   1410\u001b[0m     \u001b[1;32mdef\u001b[0m \u001b[0minner\u001b[0m\u001b[1;33m(\u001b[0m\u001b[0max\u001b[0m\u001b[1;33m,\u001b[0m \u001b[1;33m*\u001b[0m\u001b[0margs\u001b[0m\u001b[1;33m,\u001b[0m \u001b[0mdata\u001b[0m\u001b[1;33m=\u001b[0m\u001b[1;32mNone\u001b[0m\u001b[1;33m,\u001b[0m \u001b[1;33m**\u001b[0m\u001b[0mkwargs\u001b[0m\u001b[1;33m)\u001b[0m\u001b[1;33m:\u001b[0m\u001b[1;33m\u001b[0m\u001b[1;33m\u001b[0m\u001b[0m\n\u001b[0;32m   1411\u001b[0m         \u001b[1;32mif\u001b[0m \u001b[0mdata\u001b[0m \u001b[1;32mis\u001b[0m \u001b[1;32mNone\u001b[0m\u001b[1;33m:\u001b[0m\u001b[1;33m\u001b[0m\u001b[1;33m\u001b[0m\u001b[0m\n\u001b[1;32m-> 1412\u001b[1;33m             \u001b[1;32mreturn\u001b[0m \u001b[0mfunc\u001b[0m\u001b[1;33m(\u001b[0m\u001b[0max\u001b[0m\u001b[1;33m,\u001b[0m \u001b[1;33m*\u001b[0m\u001b[0mmap\u001b[0m\u001b[1;33m(\u001b[0m\u001b[0msanitize_sequence\u001b[0m\u001b[1;33m,\u001b[0m \u001b[0margs\u001b[0m\u001b[1;33m)\u001b[0m\u001b[1;33m,\u001b[0m \u001b[1;33m**\u001b[0m\u001b[0mkwargs\u001b[0m\u001b[1;33m)\u001b[0m\u001b[1;33m\u001b[0m\u001b[1;33m\u001b[0m\u001b[0m\n\u001b[0m\u001b[0;32m   1413\u001b[0m \u001b[1;33m\u001b[0m\u001b[0m\n\u001b[0;32m   1414\u001b[0m         \u001b[0mbound\u001b[0m \u001b[1;33m=\u001b[0m \u001b[0mnew_sig\u001b[0m\u001b[1;33m.\u001b[0m\u001b[0mbind\u001b[0m\u001b[1;33m(\u001b[0m\u001b[0max\u001b[0m\u001b[1;33m,\u001b[0m \u001b[1;33m*\u001b[0m\u001b[0margs\u001b[0m\u001b[1;33m,\u001b[0m \u001b[1;33m**\u001b[0m\u001b[0mkwargs\u001b[0m\u001b[1;33m)\u001b[0m\u001b[1;33m\u001b[0m\u001b[1;33m\u001b[0m\u001b[0m\n",
      "\u001b[1;32m~\\anaconda3\\envs\\PyTorchRL\\lib\\site-packages\\matplotlib\\axes\\_axes.py\u001b[0m in \u001b[0;36mimshow\u001b[1;34m(self, X, cmap, norm, aspect, interpolation, alpha, vmin, vmax, origin, extent, interpolation_stage, filternorm, filterrad, resample, url, **kwargs)\u001b[0m\n\u001b[0;32m   5440\u001b[0m                               **kwargs)\n\u001b[0;32m   5441\u001b[0m \u001b[1;33m\u001b[0m\u001b[0m\n\u001b[1;32m-> 5442\u001b[1;33m         \u001b[0mim\u001b[0m\u001b[1;33m.\u001b[0m\u001b[0mset_data\u001b[0m\u001b[1;33m(\u001b[0m\u001b[0mX\u001b[0m\u001b[1;33m)\u001b[0m\u001b[1;33m\u001b[0m\u001b[1;33m\u001b[0m\u001b[0m\n\u001b[0m\u001b[0;32m   5443\u001b[0m         \u001b[0mim\u001b[0m\u001b[1;33m.\u001b[0m\u001b[0mset_alpha\u001b[0m\u001b[1;33m(\u001b[0m\u001b[0malpha\u001b[0m\u001b[1;33m)\u001b[0m\u001b[1;33m\u001b[0m\u001b[1;33m\u001b[0m\u001b[0m\n\u001b[0;32m   5444\u001b[0m         \u001b[1;32mif\u001b[0m \u001b[0mim\u001b[0m\u001b[1;33m.\u001b[0m\u001b[0mget_clip_path\u001b[0m\u001b[1;33m(\u001b[0m\u001b[1;33m)\u001b[0m \u001b[1;32mis\u001b[0m \u001b[1;32mNone\u001b[0m\u001b[1;33m:\u001b[0m\u001b[1;33m\u001b[0m\u001b[1;33m\u001b[0m\u001b[0m\n",
      "\u001b[1;32m~\\anaconda3\\envs\\PyTorchRL\\lib\\site-packages\\matplotlib\\image.py\u001b[0m in \u001b[0;36mset_data\u001b[1;34m(self, A)\u001b[0m\n\u001b[0;32m    714\u001b[0m                 or self._A.ndim == 3 and self._A.shape[-1] in [3, 4]):\n\u001b[0;32m    715\u001b[0m             raise TypeError(\"Invalid shape {} for image data\"\n\u001b[1;32m--> 716\u001b[1;33m                             .format(self._A.shape))\n\u001b[0m\u001b[0;32m    717\u001b[0m \u001b[1;33m\u001b[0m\u001b[0m\n\u001b[0;32m    718\u001b[0m         \u001b[1;32mif\u001b[0m \u001b[0mself\u001b[0m\u001b[1;33m.\u001b[0m\u001b[0m_A\u001b[0m\u001b[1;33m.\u001b[0m\u001b[0mndim\u001b[0m \u001b[1;33m==\u001b[0m \u001b[1;36m3\u001b[0m\u001b[1;33m:\u001b[0m\u001b[1;33m\u001b[0m\u001b[1;33m\u001b[0m\u001b[0m\n",
      "\u001b[1;31mTypeError\u001b[0m: Invalid shape (168,) for image data"
     ]
    }
   ],
   "source": [
    "print(len(train_data))\n",
    "print(len(val_data))\n",
    "#plt.imshow(train_data[6])\n",
    "#plt.show()\n",
    "fig = plt.figure(figsize=(84, 84))\n",
    "columns = 4\n",
    "rows = 1\n",
    "for i in range(1, columns*rows +1):\n",
    "    fig.add_subplot(rows, columns, i)\n",
    "    plt.imshow(train_data[6][i-1])\n",
    "plt.show()"
   ]
  },
  {
   "cell_type": "code",
   "execution_count": 35,
   "id": "28d030ed",
   "metadata": {},
   "outputs": [
    {
     "name": "stdout",
     "output_type": "stream",
     "text": [
      "30000\n",
      "8000\n"
     ]
    },
    {
     "data": {
      "image/png": "[encoded data removed]",
      "text/plain": [
       "<Figure size 640x480 with 1 Axes>"
      ]
     },
     "metadata": {},
     "output_type": "display_data"
    }
   ],
   "source": [
    "print(len(train_data))\n",
    "print(len(val_data))\n",
    "plt.imshow(train_data[10])\n",
    "plt.show()"
   ]
  },
  {
   "cell_type": "markdown",
   "id": "45d4817d",
   "metadata": {},
   "source": [
    "Not Buffered"
   ]
  },
  {
   "cell_type": "code",
   "execution_count": 4,
   "id": "e1449a4b",
   "metadata": {
    "scrolled": true
   },
   "outputs": [
    {
     "name": "stdout",
     "output_type": "stream",
     "text": [
      "training data\n",
      "0\n",
      "1000\n",
      "2000\n",
      "3000\n",
      "4000\n",
      "5000\n",
      "6000\n",
      "7000\n",
      "8000\n",
      "9000\n",
      "10000\n",
      "11000\n",
      "12000\n",
      "13000\n",
      "14000\n",
      "15000\n",
      "16000\n",
      "17000\n",
      "18000\n",
      "19000\n",
      "20000\n",
      "21000\n",
      "22000\n",
      "23000\n",
      "24000\n",
      "25000\n",
      "26000\n",
      "27000\n",
      "28000\n",
      "29000\n",
      "30000\n",
      "31000\n",
      "32000\n",
      "33000\n",
      "34000\n",
      "35000\n",
      "36000\n",
      "37000\n",
      "38000\n",
      "39000\n",
      "40000\n",
      "41000\n",
      "42000\n",
      "43000\n",
      "44000\n",
      "45000\n",
      "46000\n",
      "47000\n",
      "48000\n",
      "49000\n",
      "50000\n",
      "51000\n",
      "52000\n",
      "53000\n",
      "54000\n",
      "55000\n",
      "56000\n",
      "57000\n",
      "58000\n",
      "59000\n",
      "60000\n",
      "61000\n",
      "62000\n",
      "63000\n",
      "64000\n",
      "65000\n",
      "66000\n",
      "67000\n",
      "68000\n",
      "69000\n",
      "70000\n",
      "71000\n",
      "72000\n",
      "73000\n",
      "74000\n",
      "75000\n",
      "76000\n",
      "77000\n",
      "78000\n",
      "79000\n",
      "80000\n",
      "81000\n",
      "82000\n",
      "83000\n",
      "84000\n",
      "85000\n",
      "86000\n",
      "87000\n",
      "88000\n",
      "89000\n",
      "90000\n",
      "91000\n",
      "92000\n",
      "93000\n",
      "94000\n",
      "95000\n",
      "96000\n",
      "97000\n",
      "98000\n",
      "99000\n",
      "validation data\n",
      "0\n",
      "1000\n",
      "2000\n",
      "3000\n",
      "4000\n",
      "5000\n",
      "6000\n",
      "7000\n",
      "8000\n",
      "9000\n",
      "10000\n",
      "11000\n",
      "12000\n",
      "13000\n",
      "14000\n",
      "15000\n",
      "16000\n",
      "17000\n",
      "18000\n",
      "19000\n"
     ]
    }
   ],
   "source": [
    "train_length = 100000 #100k for single images 30k for 4Buffer\n",
    "val_length = 20000    #20k for single images 8k for 8 Buffer\n",
    "train_data = []\n",
    "train_GT_Labels = []\n",
    "val_data = []\n",
    "val_GT_Labels = []\n",
    "\n",
    "print(\"training data\")\n",
    "for i in range(train_length):\n",
    "    p1 = random.randrange(-10,84,1)\n",
    "    p2 = random.randrange(-10,84,1)\n",
    "    xBall = random.randrange(12,72,1) #********************change!\n",
    "    yBall = random.randrange(1,82,1)\n",
    "    #train_data.append(sample(p1, p2, xBall, yBall))\n",
    "    #train_GT_Labels.append([p1, p2, xBall, yBall])\n",
    "    train_data.append(sampleBALL(xBall, yBall))\n",
    "    train_GT_Labels.append([xBall, yBall])\n",
    "    if i % 1000 == 0: print(i)\n",
    "        \n",
    "print(\"validation data\")\n",
    "for i in range(val_length):\n",
    "    p1 = random.randrange(-10,84,1)\n",
    "    p2 = random.randrange(-10,84,1)\n",
    "    xBall = random.randrange(12,72,1) #********************change!\n",
    "    yBall = random.randrange(1,82,1)\n",
    "    #val_data.append(sample(p1, p2, xBall, yBall))\n",
    "    #val_GT_Labels.append([p1, p2, xBall, yBall])\n",
    "    val_data.append(sampleBALL(xBall, yBall))\n",
    "    val_GT_Labels.append([xBall, yBall])\n",
    "    if i % 1000 == 0: print(i)"
   ]
  },
  {
   "cell_type": "code",
   "execution_count": null,
   "id": "da175c71",
   "metadata": {},
   "outputs": [],
   "source": [
    "plt.imshow(train_data[6])\n",
    "plt.show()"
   ]
  },
  {
   "cell_type": "code",
   "execution_count": 28,
   "id": "2ffc135a",
   "metadata": {},
   "outputs": [
    {
     "name": "stdout",
     "output_type": "stream",
     "text": [
      "[19, 67, 20, 30]\n"
     ]
    }
   ],
   "source": [
    "print(train_GT_Labels[6])"
   ]
  },
  {
   "cell_type": "code",
   "execution_count": 31,
   "id": "3c7fd8f1",
   "metadata": {},
   "outputs": [
    {
     "name": "stdout",
     "output_type": "stream",
     "text": [
      "(100000, 1, 84, 84)\n"
     ]
    }
   ],
   "source": [
    "train_data = np.expand_dims(train_data, axis=1)\n",
    "print(train_data.shape)\n",
    "val_data = np.expand_dims(val_data, axis=1)"
   ]
  },
  {
   "cell_type": "markdown",
   "id": "0e5ad0eb",
   "metadata": {},
   "source": [
    "Convert to float 32 from double64"
   ]
  },
  {
   "cell_type": "code",
   "execution_count": 25,
   "id": "995b2646",
   "metadata": {},
   "outputs": [],
   "source": [
    "tain_data_np = np.asarray(train_data,dtype=np.float32)\n",
    "val_data_np = np.asarray(val_data, dtype=np.float32)"
   ]
  },
  {
   "cell_type": "code",
   "execution_count": 26,
   "id": "1e6c9284",
   "metadata": {},
   "outputs": [
    {
     "data": {
      "text/plain": [
       "dtype('float32')"
      ]
     },
     "execution_count": 26,
     "metadata": {},
     "output_type": "execute_result"
    }
   ],
   "source": [
    "val_data_np.dtype\n",
    "tain_data_np.dtype"
   ]
  },
  {
   "cell_type": "code",
   "execution_count": 27,
   "id": "141ef645",
   "metadata": {},
   "outputs": [
    {
     "name": "stdout",
     "output_type": "stream",
     "text": [
      "float32\n",
      "float32\n"
     ]
    }
   ],
   "source": [
    "train_data_np2 = tain_data_np.astype(dtype=np.float32)\n",
    "val_data_np2 = val_data_np.astype(dtype=np.float32)\n",
    "print(val_data_np2.dtype)\n",
    "print(train_data_np2.dtype)"
   ]
  },
  {
   "cell_type": "code",
   "execution_count": 24,
   "id": "20b4137a",
   "metadata": {},
   "outputs": [],
   "source": [
    "#np.save( \"train_data100kBufferWithLabels\", train_data_np2)\n",
    "#np.save( \"val_data20kBufferWithLabels\", val_data_np2)"
   ]
  },
  {
   "cell_type": "code",
   "execution_count": 28,
   "id": "439e984d",
   "metadata": {},
   "outputs": [],
   "source": [
    "#np.savez(\"train_data100kBufferWithLabelsONLYball\", data=train_data_np2, labels=train_GT_Labels )\n",
    "#np.savez(\"val_data100kBufferWithLabelsONLYball\", data=val_data_np2, labels=val_GT_Labels )\n",
    "\n",
    "np.savez(\"train_data30kBuffer3\", data=train_data_np2, labels=train_GT_Labels )\n",
    "np.savez(\"val_data8kBuffer3\", data=val_data_np2, labels=val_GT_Labels )\n",
    "\n",
    "#np.savez(\"train_data100kWithLabels\", data=train_data_np2, labels=train_GT_Labels )\n",
    "#np.savez(\"val_dataREAL20kWithLabels\", data=val_data_np2, labels=val_GT_Labels )\n",
    "\n",
    "#np.savez(\"train_data100kWithLabelsMovingSQ\", data=train_data_np2, labels=train_GT_Labels )\n",
    "#np.savez(\"val_data20kWithLabelsMovingSQ\", data=val_data_np2, labels=val_GT_Labels )\n",
    "\n",
    "#np.savez(\"L1train_data100kWithLabels\", data=train_data_np2, labels=train_GT_Labels )\n",
    "#np.savez(\"L1val_data20kWithLabels\", data=val_data_np2, labels=val_GT_Labels )\n",
    "\n",
    "#np.savez(\"Sqauretrain_data100kWithLabels\", data=train_data_np2, labels=train_GT_Labels )\n",
    "#np.savez(\"Sqaureval_data20kWithLabels\", data=val_data_np2, labels=val_GT_Labels )\n"
   ]
  },
  {
   "cell_type": "markdown",
   "id": "92f14391",
   "metadata": {},
   "source": [
    "Test load"
   ]
  },
  {
   "cell_type": "code",
   "execution_count": 13,
   "id": "484e0e8a",
   "metadata": {},
   "outputs": [],
   "source": [
    "test = np.load(r\"C:\\Users\\erics\\Documents\\Programme\\Bachelorarbeit\\train_data100kBufferWithLabels.npz\")"
   ]
  },
  {
   "cell_type": "code",
   "execution_count": 14,
   "id": "d3650d1b",
   "metadata": {},
   "outputs": [
    {
     "name": "stdout",
     "output_type": "stream",
     "text": [
      "<numpy.lib.npyio.NpzFile object at 0x0000024FB394FBC8>\n"
     ]
    }
   ],
   "source": [
    "print(test)"
   ]
  },
  {
   "cell_type": "code",
   "execution_count": 26,
   "id": "0bd7c535",
   "metadata": {},
   "outputs": [
    {
     "name": "stdout",
     "output_type": "stream",
     "text": [
      "[[[27 73]]\n",
      "\n",
      " [[53 43]]\n",
      "\n",
      " [[ 1 49]]\n",
      "\n",
      " ...\n",
      "\n",
      " [[57  9]]\n",
      "\n",
      " [[10 29]]\n",
      "\n",
      " [[23 54]]]\n"
     ]
    }
   ],
   "source": [
    "print(test['labels'])"
   ]
  },
  {
   "cell_type": "code",
   "execution_count": 15,
   "id": "7279cbcd",
   "metadata": {},
   "outputs": [
    {
     "name": "stdout",
     "output_type": "stream",
     "text": [
      "(30000, 4, 84, 84)\n"
     ]
    }
   ],
   "source": [
    "print(test['data'].shape)"
   ]
  },
  {
   "cell_type": "code",
   "execution_count": 16,
   "id": "766e6ac1",
   "metadata": {},
   "outputs": [
    {
     "data": {
      "image/png": "[encoded data removed]",
      "text/plain": [
       "<Figure size 640x480 with 1 Axes>"
      ]
     },
     "metadata": {},
     "output_type": "display_data"
    }
   ],
   "source": [
    "plt.imshow(test['data'][2,0])\n",
    "plt.show()"
   ]
  },
  {
   "cell_type": "code",
   "execution_count": null,
   "id": "6c3a4216",
   "metadata": {},
   "outputs": [],
   "source": []
  }
 ],
 "metadata": {
  "kernelspec": {
   "display_name": "Python 3",
   "language": "python",
   "name": "python3"
  },
  "language_info": {
   "codemirror_mode": {
    "name": "ipython",
    "version": 3
   },
   "file_extension": ".py",
   "mimetype": "text/x-python",
   "name": "python",
   "nbconvert_exporter": "python",
   "pygments_lexer": "ipython3",
   "version": "3.7.11"
  }
 },
 "nbformat": 4,
 "nbformat_minor": 5
}
