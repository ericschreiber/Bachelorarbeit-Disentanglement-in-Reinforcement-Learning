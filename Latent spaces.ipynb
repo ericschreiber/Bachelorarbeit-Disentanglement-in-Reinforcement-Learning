{
 "cells": [
  {
   "cell_type": "code",
   "execution_count": 10,
   "id": "e1c3d2a0",
   "metadata": {},
   "outputs": [],
   "source": [
    "import torch\n",
    "import torch.nn as nn        # Pytorch neural network package\n",
    "import torch.optim as optim  # Pytorch optimization package\n",
    "import torch.nn.functional as F\n",
    "import numpy\n",
    "import numpy as np\n",
    "import matplotlib.pyplot as plt\n",
    "\n",
    "device = torch.device(\"cuda\")"
   ]
  },
  {
   "cell_type": "code",
   "execution_count": 2,
   "id": "59869ce1",
   "metadata": {},
   "outputs": [],
   "source": [
    "features = 64\n",
    "# define a simple linear VAE #until now normal VAE without Beta\n",
    "class LinearVAE(nn.Module):\n",
    "    def __init__(self):\n",
    "        super(LinearVAE, self).__init__()\n",
    " \n",
    "        # encoder 84*84 = 7’056\n",
    "        self.enc0 = nn.Linear(in_features=84*84, out_features=1024)\n",
    "        self.enc1 = nn.Linear(in_features=1024, out_features=512)\n",
    "        self.enc2 = nn.Linear(in_features=512, out_features=features*2)\n",
    " \n",
    "        # decoder \n",
    "        self.dec0 = nn.Linear(in_features=features, out_features=512)\n",
    "        self.dec1 = nn.Linear(in_features=512, out_features=1024)\n",
    "        self.dec2 = nn.Linear(in_features=1024, out_features=84*84)\n",
    "\n",
    "    def reparameterize(self, mu, log_var):\n",
    "        \"\"\"\n",
    "        :param mu: mean from the encoder's latent space\n",
    "        :param log_var: log variance from the encoder's latent space\n",
    "        \"\"\"\n",
    "        std = torch.exp(0.5*log_var) # standard deviation\n",
    "        eps = torch.randn_like(std) # `randn_like` as we need the same size\n",
    "        sample = mu + (eps * std) # sampling as if coming from the input space\n",
    "        return sample\n",
    " \n",
    "    \n",
    "    def encode(self, x):\n",
    "        x = F.relu(self.enc0(x))\n",
    "        x = F.relu(self.enc1(x))\n",
    "        x = self.enc2(x)\n",
    "        return x"
   ]
  },
  {
   "cell_type": "code",
   "execution_count": 3,
   "id": "aae26b53",
   "metadata": {},
   "outputs": [],
   "source": [
    "train_data = numpy.load('train_data100kFEB23.npy')\n",
    "val_data = numpy.load('val_data20kFEB23.npy')"
   ]
  },
  {
   "cell_type": "code",
   "execution_count": 4,
   "id": "da4b97da",
   "metadata": {},
   "outputs": [
    {
     "name": "stdout",
     "output_type": "stream",
     "text": [
      "(101848, 84, 84)\n"
     ]
    }
   ],
   "source": [
    "print(train_data.shape)"
   ]
  },
  {
   "cell_type": "code",
   "execution_count": 5,
   "id": "c7df0184",
   "metadata": {},
   "outputs": [
    {
     "data": {
      "text/plain": [
       "LinearVAE(\n",
       "  (enc0): Linear(in_features=7056, out_features=1024, bias=True)\n",
       "  (enc1): Linear(in_features=1024, out_features=512, bias=True)\n",
       "  (enc2): Linear(in_features=512, out_features=128, bias=True)\n",
       "  (dec0): Linear(in_features=64, out_features=512, bias=True)\n",
       "  (dec1): Linear(in_features=512, out_features=1024, bias=True)\n",
       "  (dec2): Linear(in_features=1024, out_features=7056, bias=True)\n",
       ")"
      ]
     },
     "execution_count": 5,
     "metadata": {},
     "output_type": "execute_result"
    }
   ],
   "source": [
    "BVAE = LinearVAE()\n",
    "BVAE.load_state_dict(torch.load('C:/Users/erics/Documents/Programme/Bachelorarbeit/models/BVAE_Pong/B=10VAEFEB25'))\n",
    "BVAE.to(device)"
   ]
  },
  {
   "cell_type": "code",
   "execution_count": 6,
   "id": "56ce0af6",
   "metadata": {},
   "outputs": [
    {
     "name": "stdout",
     "output_type": "stream",
     "text": [
      "tensor([[0.7871, 0.6382, 0.6075,  ..., 0.0165, 0.2865, 0.7498],\n",
      "        [0.5389, 0.7998, 0.4932,  ..., 0.2689, 0.2294, 0.6869],\n",
      "        [0.2451, 0.6344, 0.6155,  ..., 0.0329, 0.8799, 0.7129],\n",
      "        ...,\n",
      "        [0.7994, 0.6051, 0.5645,  ..., 0.7637, 0.4685, 0.5589],\n",
      "        [0.6429, 0.2099, 0.7923,  ..., 0.2906, 0.0955, 0.6630],\n",
      "        [0.0358, 0.8268, 0.8657,  ..., 0.2295, 0.7350, 0.3277]],\n",
      "       device='cuda:0')\n"
     ]
    }
   ],
   "source": [
    "randomInput = torch.rand(256, 7056, device=device) #7056 = 84* 84\n",
    "print(randomInput)\n"
   ]
  },
  {
   "cell_type": "code",
   "execution_count": 7,
   "id": "c6fa5989",
   "metadata": {},
   "outputs": [
    {
     "name": "stdout",
     "output_type": "stream",
     "text": [
      "tensor([[-2.4151e-02, -4.0193e-02,  8.0530e-04,  ..., -5.9856e-02,\n",
      "         -3.9942e+00, -9.7342e+00],\n",
      "        [ 4.1476e-02, -3.5311e-02, -1.7519e-02,  ..., -3.7422e-03,\n",
      "         -4.8358e+00, -9.8534e+00],\n",
      "        [ 3.4652e-02,  2.7614e-02, -3.2955e-02,  ..., -2.3027e-02,\n",
      "         -4.8241e+00, -9.7071e+00],\n",
      "        ...,\n",
      "        [-7.7384e-02, -6.3326e-02, -2.8648e-02,  ..., -3.3008e-02,\n",
      "         -4.0528e+00, -9.8587e+00],\n",
      "        [-1.7085e-02, -3.5736e-03,  4.8012e-02,  ..., -4.5892e-02,\n",
      "         -3.6892e+00, -9.5892e+00],\n",
      "        [-2.5443e-02,  3.5722e-02,  1.5892e-02,  ...,  3.1083e-03,\n",
      "         -4.1741e+00, -9.6817e+00]], device='cuda:0', grad_fn=<AddmmBackward0>)\n"
     ]
    }
   ],
   "source": [
    "enco = BVAE.encode(randomInput)\n",
    "print(enco)"
   ]
  },
  {
   "cell_type": "code",
   "execution_count": 12,
   "id": "3658e933",
   "metadata": {},
   "outputs": [],
   "source": [
    "def KLdiv(mu, logvar):\n",
    "    print(mu.size())\n",
    "    print((1 + logvar - mu.pow(2) - logvar.exp()).size())\n",
    "    KLD = -0.5 * torch.sum(1 + logvar - mu.pow(2) - logvar.exp())\n",
    "    print(KLD.size())\n",
    "    return KLD\n",
    "\n",
    "def compute_gaussian_kl(z_mean, z_logvar):\n",
    "    return np.mean(0.5 * (np.square(z_mean) + np.exp(z_logvar) - z_logvar - 1), axis=0)"
   ]
  },
  {
   "cell_type": "code",
   "execution_count": 17,
   "id": "811bb024",
   "metadata": {},
   "outputs": [
    {
     "name": "stdout",
     "output_type": "stream",
     "text": [
      "1\n"
     ]
    }
   ],
   "source": [
    "x = enco.view(-1, 2, features)\n",
    "# get `mu` and `log_var`\n",
    "mu = x[:, 0, :] # the first feature values as mean\n",
    "log_var = x[:, 1, :]\n",
    "\n",
    "KLenco = compute_gaussian_kl(mu.detach().cpu().numpy(), log_var.detach().cpu().numpy())\n",
    "#print(KLenco.size())\n",
    "print(KLenco.ndim)\n",
    "\n",
    "#TODO: Wie macht man dimensionwise KL-divergence??"
   ]
  },
  {
   "cell_type": "code",
   "execution_count": 24,
   "id": "3e1dcce1",
   "metadata": {},
   "outputs": [],
   "source": [
    "#enco = enco.detach().cpu().numpy()\n",
    "#KLencoNP = KLenco.detach().cpu().numpy()"
   ]
  },
  {
   "cell_type": "code",
   "execution_count": 23,
   "id": "245de38f",
   "metadata": {},
   "outputs": [
    {
     "name": "stdout",
     "output_type": "stream",
     "text": [
      "(64,)\n"
     ]
    }
   ],
   "source": [
    "print(KLenco.shape)"
   ]
  },
  {
   "cell_type": "code",
   "execution_count": null,
   "id": "fc1e0be9",
   "metadata": {},
   "outputs": [],
   "source": []
  },
  {
   "cell_type": "code",
   "execution_count": 21,
   "id": "ed8a17b6",
   "metadata": {},
   "outputs": [
    {
     "data": {
      "image/png": "[encoded data removed]",
      "text/plain": [
       "<Figure size 640x480 with 1 Axes>"
      ]
     },
     "metadata": {},
     "output_type": "display_data"
    }
   ],
   "source": [
    "plt.plot(KLenco)\n",
    "plt.show()"
   ]
  },
  {
   "cell_type": "code",
   "execution_count": 30,
   "id": "a465fd36",
   "metadata": {},
   "outputs": [],
   "source": [
    "#KLencoMean = numpy.mean(KLenco, axis=0) # in kl_gaussian wird schon mean genommen"
   ]
  },
  {
   "cell_type": "code",
   "execution_count": 31,
   "id": "ae3770cc",
   "metadata": {},
   "outputs": [],
   "source": [
    "#plt.plot(KLencoMean)\n",
    "#plt.show()"
   ]
  },
  {
   "cell_type": "code",
   "execution_count": 28,
   "id": "50472dd4",
   "metadata": {},
   "outputs": [
    {
     "name": "stdout",
     "output_type": "stream",
     "text": [
      "[18.]\n"
     ]
    }
   ],
   "source": [
    "numZero = (numpy.histogram(KLenco, bins=(-0.5, 0.01))[0])/2 #/2 da logvar & mean\n",
    "print(numZero)"
   ]
  },
  {
   "cell_type": "code",
   "execution_count": 29,
   "id": "a12db0eb",
   "metadata": {},
   "outputs": [
    {
     "name": "stdout",
     "output_type": "stream",
     "text": [
      "[46.]\n"
     ]
    }
   ],
   "source": [
    "Nonzero = 64-numZero\n",
    "print(Nonzero)"
   ]
  },
  {
   "cell_type": "code",
   "execution_count": null,
   "id": "83617332",
   "metadata": {},
   "outputs": [],
   "source": []
  }
 ],
 "metadata": {
  "kernelspec": {
   "display_name": "Python 3",
   "language": "python",
   "name": "python3"
  },
  "language_info": {
   "codemirror_mode": {
    "name": "ipython",
    "version": 3
   },
   "file_extension": ".py",
   "mimetype": "text/x-python",
   "name": "python",
   "nbconvert_exporter": "python",
   "pygments_lexer": "ipython3",
   "version": "3.7.11"
  }
 },
 "nbformat": 4,
 "nbformat_minor": 5
}
