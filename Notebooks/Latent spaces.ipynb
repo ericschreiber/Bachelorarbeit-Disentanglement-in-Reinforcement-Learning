{
 "cells": [
  {
   "cell_type": "code",
   "execution_count": 1,
   "id": "e1c3d2a0",
   "metadata": {},
   "outputs": [],
   "source": [
    "import torch\n",
    "import torch.nn as nn        # Pytorch neural network package\n",
    "import torch.optim as optim  # Pytorch optimization package\n",
    "import torch.nn.functional as F\n",
    "import numpy\n",
    "import numpy as np\n",
    "import matplotlib.pyplot as plt\n",
    "\n",
    "device = torch.device(\"cuda\")"
   ]
  },
  {
   "cell_type": "code",
   "execution_count": 6,
   "id": "59869ce1",
   "metadata": {},
   "outputs": [],
   "source": [
    "features = 16\n",
    "# define a simple linear VAE #until now normal VAE without Beta\n",
    "class LinearVAE(nn.Module):\n",
    "    def __init__(self):\n",
    "        super(LinearVAE, self).__init__()\n",
    " \n",
    "        # encoder 84*84 = 7’056\n",
    "        self.enc0 = nn.Linear(in_features=84*84, out_features=1024)\n",
    "        self.enc1 = nn.Linear(in_features=1024, out_features=512)\n",
    "        self.enc2 = nn.Linear(in_features=512, out_features=features*2)\n",
    " \n",
    "        # decoder \n",
    "        self.dec0 = nn.Linear(in_features=features, out_features=512)\n",
    "        self.dec1 = nn.Linear(in_features=512, out_features=1024)\n",
    "        self.dec2 = nn.Linear(in_features=1024, out_features=84*84)\n",
    "\n",
    "    def reparameterize(self, mu, log_var):\n",
    "        \"\"\"\n",
    "        :param mu: mean from the encoder's latent space\n",
    "        :param log_var: log variance from the encoder's latent space\n",
    "        \"\"\"\n",
    "        std = torch.exp(0.5*log_var) # standard deviation\n",
    "        eps = torch.randn_like(std) # `randn_like` as we need the same size\n",
    "        sample = mu + (eps * std) # sampling as if coming from the input space\n",
    "        return sample\n",
    " \n",
    "    \n",
    "    def encode(self, x):\n",
    "        x = F.relu(self.enc0(x))\n",
    "        x = F.relu(self.enc1(x))\n",
    "        x = self.enc2(x)\n",
    "        return x"
   ]
  },
  {
   "cell_type": "code",
   "execution_count": 7,
   "id": "aae26b53",
   "metadata": {},
   "outputs": [],
   "source": [
    "#train_data = numpy.load('train_data100kFEB23.npy')\n",
    "#val_data = numpy.load('val_data20kFEB23.npy')"
   ]
  },
  {
   "cell_type": "code",
   "execution_count": 8,
   "id": "da4b97da",
   "metadata": {},
   "outputs": [],
   "source": [
    "#print(train_data.shape)"
   ]
  },
  {
   "cell_type": "code",
   "execution_count": 9,
   "id": "c7df0184",
   "metadata": {},
   "outputs": [
    {
     "data": {
      "text/plain": [
       "LinearVAE(\n",
       "  (enc0): Linear(in_features=7056, out_features=1024, bias=True)\n",
       "  (enc1): Linear(in_features=1024, out_features=512, bias=True)\n",
       "  (enc2): Linear(in_features=512, out_features=32, bias=True)\n",
       "  (dec0): Linear(in_features=16, out_features=512, bias=True)\n",
       "  (dec1): Linear(in_features=512, out_features=1024, bias=True)\n",
       "  (dec2): Linear(in_features=1024, out_features=7056, bias=True)\n",
       ")"
      ]
     },
     "execution_count": 9,
     "metadata": {},
     "output_type": "execute_result"
    }
   ],
   "source": [
    "BVAE = LinearVAE()\n",
    "BVAE.load_state_dict(torch.load('C:/Users/erics/Documents/Programme/Bachelorarbeit/models/BTCVAE_Pong/linearB500_TC0_Lat16lr0.0001VAEMAR23'))\n",
    "BVAE.to(device)"
   ]
  },
  {
   "cell_type": "code",
   "execution_count": 10,
   "id": "56ce0af6",
   "metadata": {},
   "outputs": [
    {
     "name": "stdout",
     "output_type": "stream",
     "text": [
      "tensor([[0.0620, 0.0652, 0.7281,  ..., 0.6774, 0.9089, 0.0212],\n",
      "        [0.3111, 0.4260, 0.7615,  ..., 0.6756, 0.7612, 0.9788],\n",
      "        [0.8249, 0.3151, 0.9943,  ..., 0.1156, 0.1904, 0.0051],\n",
      "        ...,\n",
      "        [0.8795, 0.6317, 0.3246,  ..., 0.1916, 0.7111, 0.0950],\n",
      "        [0.6447, 0.9385, 0.4128,  ..., 0.8210, 0.0492, 0.0403],\n",
      "        [0.4690, 0.5958, 0.5648,  ..., 0.0303, 0.4305, 0.9896]],\n",
      "       device='cuda:0')\n"
     ]
    }
   ],
   "source": [
    "randomInput = torch.rand(256, 7056, device=device) #7056 = 84* 84\n",
    "print(randomInput)\n"
   ]
  },
  {
   "cell_type": "code",
   "execution_count": 11,
   "id": "c6fa5989",
   "metadata": {},
   "outputs": [
    {
     "name": "stdout",
     "output_type": "stream",
     "text": [
      "tensor([[-1.7102e+00,  6.0599e-01, -1.6721e+00,  ..., -1.8208e+01,\n",
      "          1.3780e+00, -1.4332e+01],\n",
      "        [-1.6018e+00, -1.7355e-02, -2.1110e+00,  ..., -1.8300e+01,\n",
      "          1.4892e+00, -1.4890e+01],\n",
      "        [-1.6993e+00,  6.9022e-01, -1.3260e+00,  ..., -1.8575e+01,\n",
      "          1.4178e+00, -1.4380e+01],\n",
      "        ...,\n",
      "        [-1.5484e+00,  9.4183e-02, -1.9615e+00,  ..., -1.8651e+01,\n",
      "          1.4097e+00, -1.5004e+01],\n",
      "        [-1.5856e+00,  4.8102e-02, -1.9531e+00,  ..., -1.8503e+01,\n",
      "          1.4000e+00, -1.4434e+01],\n",
      "        [-1.6389e+00, -2.9959e-03, -1.6801e+00,  ..., -1.9010e+01,\n",
      "          1.4180e+00, -1.4854e+01]], device='cuda:0', grad_fn=<AddmmBackward0>)\n"
     ]
    }
   ],
   "source": [
    "enco = BVAE.encode(randomInput)\n",
    "print(enco)"
   ]
  },
  {
   "cell_type": "code",
   "execution_count": 12,
   "id": "3658e933",
   "metadata": {},
   "outputs": [],
   "source": [
    "def KLdiv(mu, logvar):\n",
    "    print(mu.size())\n",
    "    print((1 + logvar - mu.pow(2) - logvar.exp()).size())\n",
    "    KLD = -0.5 * torch.sum(1 + logvar - mu.pow(2) - logvar.exp())\n",
    "    print(KLD.size())\n",
    "    return KLD\n",
    "\n",
    "def compute_gaussian_kl(z_mean, z_logvar):\n",
    "    return np.mean(0.5 * (np.square(z_mean) + np.exp(z_logvar) - z_logvar - 1), axis=0)"
   ]
  },
  {
   "cell_type": "code",
   "execution_count": 13,
   "id": "811bb024",
   "metadata": {},
   "outputs": [
    {
     "name": "stdout",
     "output_type": "stream",
     "text": [
      "1\n"
     ]
    }
   ],
   "source": [
    "x = enco.view(-1, 2, features)\n",
    "# get `mu` and `log_var`\n",
    "mu = x[:, 0, :] # the first feature values as mean\n",
    "log_var = x[:, 1, :]\n",
    "\n",
    "KLenco = compute_gaussian_kl(mu.detach().cpu().numpy(), log_var.detach().cpu().numpy())\n",
    "#print(KLenco.size())\n",
    "print(KLenco.ndim)\n",
    "\n",
    "#TODO: Wie macht man dimensionwise KL-divergence??"
   ]
  },
  {
   "cell_type": "code",
   "execution_count": 14,
   "id": "3e1dcce1",
   "metadata": {},
   "outputs": [],
   "source": [
    "#enco = enco.detach().cpu().numpy()\n",
    "#KLencoNP = KLenco.detach().cpu().numpy()"
   ]
  },
  {
   "cell_type": "code",
   "execution_count": 15,
   "id": "245de38f",
   "metadata": {},
   "outputs": [
    {
     "name": "stdout",
     "output_type": "stream",
     "text": [
      "(16,)\n"
     ]
    }
   ],
   "source": [
    "print(KLenco.shape)"
   ]
  },
  {
   "cell_type": "code",
   "execution_count": null,
   "id": "fc1e0be9",
   "metadata": {},
   "outputs": [],
   "source": []
  },
  {
   "cell_type": "code",
   "execution_count": 16,
   "id": "ed8a17b6",
   "metadata": {},
   "outputs": [
    {
     "data": {
      "image/png": "[encoded data removed]",
      "text/plain": [
       "<Figure size 640x480 with 1 Axes>"
      ]
     },
     "metadata": {},
     "output_type": "display_data"
    }
   ],
   "source": [
    "plt.plot(KLenco)\n",
    "plt.show()"
   ]
  },
  {
   "cell_type": "code",
   "execution_count": 17,
   "id": "a465fd36",
   "metadata": {},
   "outputs": [],
   "source": [
    "#KLencoMean = numpy.mean(KLenco, axis=0) # in kl_gaussian wird schon mean genommen"
   ]
  },
  {
   "cell_type": "code",
   "execution_count": 18,
   "id": "ae3770cc",
   "metadata": {},
   "outputs": [],
   "source": [
    "#plt.plot(KLencoMean)\n",
    "#plt.show()"
   ]
  },
  {
   "cell_type": "code",
   "execution_count": 19,
   "id": "50472dd4",
   "metadata": {},
   "outputs": [
    {
     "name": "stdout",
     "output_type": "stream",
     "text": [
      "[0.]\n"
     ]
    }
   ],
   "source": [
    "numZero = (numpy.histogram(KLenco, bins=(-0.5, 0.01))[0])/2 #/2 da logvar & mean\n",
    "print(numZero)"
   ]
  },
  {
   "cell_type": "code",
   "execution_count": 21,
   "id": "a12db0eb",
   "metadata": {},
   "outputs": [
    {
     "name": "stdout",
     "output_type": "stream",
     "text": [
      "[16.]\n"
     ]
    }
   ],
   "source": [
    "Nonzero = features-numZero\n",
    "print(Nonzero)"
   ]
  },
  {
   "cell_type": "code",
   "execution_count": null,
   "id": "83617332",
   "metadata": {},
   "outputs": [],
   "source": []
  }
 ],
 "metadata": {
  "kernelspec": {
   "display_name": "Python 3",
   "language": "python",
   "name": "python3"
  },
  "language_info": {
   "codemirror_mode": {
    "name": "ipython",
    "version": 3
   },
   "file_extension": ".py",
   "mimetype": "text/x-python",
   "name": "python",
   "nbconvert_exporter": "python",
   "pygments_lexer": "ipython3",
   "version": "3.7.11"
  }
 },
 "nbformat": 4,
 "nbformat_minor": 5
}
