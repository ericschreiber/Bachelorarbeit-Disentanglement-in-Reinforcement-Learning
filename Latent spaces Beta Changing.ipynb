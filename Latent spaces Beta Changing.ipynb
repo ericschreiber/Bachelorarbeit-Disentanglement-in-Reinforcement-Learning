{
 "cells": [
  {
   "cell_type": "code",
   "execution_count": 1,
   "id": "5e302db7",
   "metadata": {},
   "outputs": [],
   "source": [
    "import torch\n",
    "import torch.nn as nn        # Pytorch neural network package\n",
    "import torch.optim as optim  # Pytorch optimization package\n",
    "import torch.nn.functional as F\n",
    "import numpy\n",
    "import numpy as np\n",
    "import matplotlib.pyplot as plt\n",
    "\n",
    "device = torch.device(\"cuda\")"
   ]
  },
  {
   "cell_type": "code",
   "execution_count": 2,
   "id": "4f5a15ec",
   "metadata": {},
   "outputs": [],
   "source": [
    "features = 16\n",
    "# define a simple linear VAE #until now normal VAE without Beta\n",
    "class LinearVAE(nn.Module):\n",
    "    def __init__(self):\n",
    "        super(LinearVAE, self).__init__()\n",
    " \n",
    "        # encoder 84*84 = 7’056\n",
    "        self.enc0 = nn.Linear(in_features=84*84, out_features=1024)\n",
    "        self.enc1 = nn.Linear(in_features=1024, out_features=512)\n",
    "        self.enc2 = nn.Linear(in_features=512, out_features=features*2)\n",
    " \n",
    "        # decoder \n",
    "        self.dec0 = nn.Linear(in_features=features, out_features=512)\n",
    "        self.dec1 = nn.Linear(in_features=512, out_features=1024)\n",
    "        self.dec2 = nn.Linear(in_features=1024, out_features=84*84)\n",
    "\n",
    "    def reparameterize(self, mu, log_var):\n",
    "        \"\"\"\n",
    "        :param mu: mean from the encoder's latent space\n",
    "        :param log_var: log variance from the encoder's latent space\n",
    "        \"\"\"\n",
    "        std = torch.exp(0.5*log_var) # standard deviation\n",
    "        eps = torch.randn_like(std) # `randn_like` as we need the same size\n",
    "        sample = mu + (eps * std) # sampling as if coming from the input space\n",
    "        return sample\n",
    " \n",
    "    \n",
    "    def encode(self, x):\n",
    "        x = F.relu(self.enc0(x))\n",
    "        x = F.relu(self.enc1(x))\n",
    "        x = self.enc2(x)\n",
    "        return x"
   ]
  },
  {
   "cell_type": "code",
   "execution_count": 3,
   "id": "e0488953",
   "metadata": {},
   "outputs": [
    {
     "data": {
      "text/plain": [
       "LinearVAE(\n",
       "  (enc0): Linear(in_features=7056, out_features=1024, bias=True)\n",
       "  (enc1): Linear(in_features=1024, out_features=512, bias=True)\n",
       "  (enc2): Linear(in_features=512, out_features=32, bias=True)\n",
       "  (dec0): Linear(in_features=16, out_features=512, bias=True)\n",
       "  (dec1): Linear(in_features=512, out_features=1024, bias=True)\n",
       "  (dec2): Linear(in_features=1024, out_features=7056, bias=True)\n",
       ")"
      ]
     },
     "execution_count": 3,
     "metadata": {},
     "output_type": "execute_result"
    }
   ],
   "source": [
    "BVAE1 = LinearVAE()\n",
    "BVAE10 = LinearVAE()\n",
    "BVAE50= LinearVAE()\n",
    "BVAE500 = LinearVAE()\n",
    "\n",
    "\n",
    "BVAE1.load_state_dict(torch.load('C:/Users/erics/Documents/Programme/Bachelorarbeit/models/BVAE_Pong/B=1VAEMAR9'))\n",
    "BVAE1.to(device)\n",
    "BVAE10.load_state_dict(torch.load('C:/Users/erics/Documents/Programme/Bachelorarbeit/models/BVAE_Pong/B=10VAEMAR9'))\n",
    "BVAE10.to(device)\n",
    "BVAE50.load_state_dict(torch.load('C:/Users/erics/Documents/Programme/Bachelorarbeit/models/BVAE_Pong/B=50VAEMAR9'))\n",
    "BVAE50.to(device)\n",
    "BVAE500.load_state_dict(torch.load('C:/Users/erics/Documents/Programme/Bachelorarbeit/models/BVAE_Pong/B=500VAEMAR9'))\n",
    "BVAE500.to(device)\n"
   ]
  },
  {
   "cell_type": "code",
   "execution_count": 4,
   "id": "2e329fb8",
   "metadata": {},
   "outputs": [],
   "source": [
    "#train_data = numpy.load('train_data100kFEB23.npy')\n",
    "#val_data = numpy.load('val_data20kFEB23.npy')"
   ]
  },
  {
   "cell_type": "code",
   "execution_count": 5,
   "id": "baa21eb8",
   "metadata": {},
   "outputs": [
    {
     "name": "stdout",
     "output_type": "stream",
     "text": [
      "(101848, 84, 84)\n"
     ]
    }
   ],
   "source": [
    "print(train_data.shape)"
   ]
  },
  {
   "cell_type": "code",
   "execution_count": 6,
   "id": "1312d29d",
   "metadata": {},
   "outputs": [
    {
     "name": "stdout",
     "output_type": "stream",
     "text": [
      "tensor([[0.5916, 0.9249, 0.2319,  ..., 0.4303, 0.2696, 0.8173],\n",
      "        [0.8082, 0.3633, 0.9700,  ..., 0.2189, 0.9576, 0.6571],\n",
      "        [0.4349, 0.3128, 0.2789,  ..., 0.3177, 0.7236, 0.4306],\n",
      "        ...,\n",
      "        [0.3537, 0.3785, 0.2314,  ..., 0.5588, 0.1766, 0.0963],\n",
      "        [0.6577, 0.3834, 0.3138,  ..., 0.5305, 0.1469, 0.1662],\n",
      "        [0.5456, 0.2446, 0.0266,  ..., 0.8613, 0.6114, 0.4789]],\n",
      "       device='cuda:0')\n"
     ]
    }
   ],
   "source": [
    "randomInput = torch.rand(256, 7056, device=device) #7056 = 84* 84\n",
    "print(randomInput)\n"
   ]
  },
  {
   "cell_type": "code",
   "execution_count": 7,
   "id": "afc117fb",
   "metadata": {},
   "outputs": [
    {
     "name": "stdout",
     "output_type": "stream",
     "text": [
      "tensor([[-0.3718,  2.8371, -0.3602,  ..., -2.7050, -8.3146, -1.5356],\n",
      "        [ 0.7699,  1.6812,  0.0962,  ..., -2.6794, -8.2015, -1.4802],\n",
      "        [-0.2170,  0.6260,  0.1304,  ..., -2.6644, -7.4924, -1.4475],\n",
      "        ...,\n",
      "        [ 1.3139,  0.5595,  0.6350,  ..., -2.9043, -7.7469, -1.5845],\n",
      "        [ 1.8209,  0.2612,  0.3667,  ..., -2.8308, -7.8048, -1.6079],\n",
      "        [ 0.8474, -0.0431,  0.3968,  ..., -2.8238, -7.4119, -1.4881]],\n",
      "       device='cuda:0', grad_fn=<AddmmBackward0>)\n",
      "tensor([[ 5.3491e-02,  9.5180e-02,  3.3459e-04,  ..., -8.9461e-02,\n",
      "         -5.5072e+00, -6.4763e-02],\n",
      "        [ 1.2739e+00,  5.4909e-02, -3.9099e-02,  ..., -1.1841e-02,\n",
      "         -5.7170e+00, -2.2034e-02],\n",
      "        [-2.0750e-02,  3.5470e-02, -4.5064e-02,  ...,  4.5272e-02,\n",
      "         -5.0505e+00,  3.7817e-03],\n",
      "        ...,\n",
      "        [ 1.6080e+00, -4.6575e-02, -9.1805e-04,  ..., -6.8349e-02,\n",
      "         -5.3701e+00, -6.0914e-02],\n",
      "        [ 2.7016e+00, -1.1454e-01, -1.4407e-02,  ..., -2.4057e-01,\n",
      "         -5.3335e+00, -1.2311e-01],\n",
      "        [ 1.2192e+00, -1.1554e-01,  9.0348e-03,  ..., -1.9509e-01,\n",
      "         -5.0526e+00, -1.3293e-01]], device='cuda:0', grad_fn=<AddmmBackward0>)\n"
     ]
    }
   ],
   "source": [
    "enco1 = BVAE1.encode(randomInput)\n",
    "enco10 = BVAE10.encode(randomInput)\n",
    "enco50 = BVAE50.encode(randomInput)\n",
    "enco500 = BVAE500.encode(randomInput)\n",
    "\n",
    "\n",
    "print(enco10)\n",
    "print(enco50)"
   ]
  },
  {
   "cell_type": "code",
   "execution_count": 8,
   "id": "5595e03d",
   "metadata": {},
   "outputs": [
    {
     "name": "stdout",
     "output_type": "stream",
     "text": [
      "torch.Size([256, 32])\n"
     ]
    }
   ],
   "source": [
    "print(enco10.shape)"
   ]
  },
  {
   "cell_type": "code",
   "execution_count": 9,
   "id": "1250b8c7",
   "metadata": {},
   "outputs": [],
   "source": [
    "enco1 = enco1.detach().cpu()\n",
    "enco10 = enco10.detach().cpu()\n",
    "enco50 = enco50.detach().cpu()\n",
    "enco500 = enco500.detach().cpu()"
   ]
  },
  {
   "cell_type": "code",
   "execution_count": 10,
   "id": "3e26c491",
   "metadata": {},
   "outputs": [],
   "source": [
    "def compute_gaussian_kl(z_mean, z_logvar):\n",
    "    return np.mean(0.5 * (np.square(z_mean) + np.exp(z_logvar) - z_logvar - 1), axis=0)\n",
    "\n",
    "def computeIt(enco):\n",
    "    x = enco.view(-1, 2, features)\n",
    "    # get `mu` and `log_var`\n",
    "    mu = x[:, 0, :] # the first feature values as mean\n",
    "    log_var = x[:, 1, :]\n",
    "\n",
    "    return compute_gaussian_kl(mu.detach().cpu().numpy(), log_var.detach().cpu().numpy())"
   ]
  },
  {
   "cell_type": "code",
   "execution_count": 11,
   "id": "e712e87c",
   "metadata": {},
   "outputs": [],
   "source": [
    "KLenco1 = computeIt(enco1)\n",
    "KLenco10 = computeIt(enco10)\n",
    "KLenco50 = computeIt(enco50)\n",
    "KLenco500 = computeIt(enco500)"
   ]
  },
  {
   "cell_type": "code",
   "execution_count": null,
   "id": "c536e380",
   "metadata": {},
   "outputs": [],
   "source": []
  },
  {
   "cell_type": "code",
   "execution_count": 12,
   "id": "97fec7c7",
   "metadata": {},
   "outputs": [
    {
     "data": {
      "image/png": "[encoded data removed]",
      "text/plain": [
       "<Figure size 640x480 with 4 Axes>"
      ]
     },
     "metadata": {},
     "output_type": "display_data"
    }
   ],
   "source": [
    "figure, axis = plt.subplots(2,2)\n",
    "\n",
    "axis[0,0].plot(KLenco1)\n",
    "axis[0,0].set_title( 'Beta = 1')\n",
    "axis[0,1].plot(KLenco10)\n",
    "axis[0,1].set_title( 'Beta = 10')\n",
    "axis[1,0].plot(KLenco50)\n",
    "axis[1,0].set_title( 'Beta = 50')\n",
    "axis[1,1].plot(KLenco500)\n",
    "axis[1,1].set_title( 'Beta = 500')\n",
    "\n",
    "plt.show()"
   ]
  },
  {
   "cell_type": "code",
   "execution_count": 13,
   "id": "f469a7bd",
   "metadata": {},
   "outputs": [],
   "source": [
    "#enco1 = numpy.mean(enco1, axis=0)\n",
    "#enco10 = numpy.mean(enco10, axis=0)\n",
    "#enco50 = numpy.mean(enco50, axis=0)\n",
    "#enco500 = numpy.mean(enco500, axis=0)"
   ]
  },
  {
   "cell_type": "code",
   "execution_count": 14,
   "id": "b26e5294",
   "metadata": {},
   "outputs": [],
   "source": [
    "#figure, axis = plt.subplots(2,2)\n",
    "\n",
    "#axis[0,0].plot(enco1)\n",
    "#axis[0,0].set_title( 'Beta = 1')\n",
    "#axis[0,1].plot(enco10)\n",
    "#axis[0,1].set_title( 'Beta = 10')\n",
    "#axis[1,0].plot(enco50)\n",
    "#axis[1,0].set_title( 'Beta = 50')\n",
    "#axis[1,1].plot(enco500)\n",
    "#axis[1,1].set_title( 'Beta = 500')\n",
    "\n",
    "\n",
    "#plt.show()"
   ]
  },
  {
   "cell_type": "code",
   "execution_count": 15,
   "id": "6c2be055",
   "metadata": {},
   "outputs": [
    {
     "name": "stdout",
     "output_type": "stream",
     "text": [
      "(16,)\n"
     ]
    }
   ],
   "source": [
    "print(KLenco1.shape)"
   ]
  },
  {
   "cell_type": "code",
   "execution_count": 16,
   "id": "a8fd6e74",
   "metadata": {},
   "outputs": [
    {
     "name": "stdout",
     "output_type": "stream",
     "text": [
      "Beta = 1  [0.]\n",
      "Beta = 10  [0.]\n",
      "Beta = 50  [4.5]\n",
      "Beta = 500  [7.]\n"
     ]
    }
   ],
   "source": [
    "numZero1 = (numpy.histogram(KLenco1, bins=(0, 0.01))[0])/2 #/2 da logvar & mean\n",
    "numZero10 = (numpy.histogram(KLenco10, bins=(0, 0.01))[0])/2 #/2 da logvar & mean\n",
    "numZero50 = (numpy.histogram(KLenco50, bins=(0, 0.01))[0])/2 #/2 da logvar & mean\n",
    "numZero500 = (numpy.histogram(KLenco500, bins=(0, 0.01))[0])/2 #/2 da logvar & mean\n",
    "\n",
    "print(\"Beta = 1  \" + str(numZero1))\n",
    "print(\"Beta = 10  \" + str(numZero10))\n",
    "print(\"Beta = 50  \" + str(numZero50))\n",
    "print(\"Beta = 500  \" + str(numZero500))"
   ]
  },
  {
   "cell_type": "code",
   "execution_count": 17,
   "id": "61b9a211",
   "metadata": {},
   "outputs": [
    {
     "name": "stdout",
     "output_type": "stream",
     "text": [
      "Nonzero Dimensions Beta = 1  [16.]\n",
      "Nonzero Dimensions Beta = 10  [16.]\n",
      "Nonzero Dimensions Beta = 50  [11.5]\n",
      "Nonzero Dimensions Beta = 500  [9.]\n"
     ]
    }
   ],
   "source": [
    "Nonzero1 = 16-numZero1\n",
    "Nonzero10 = 16-numZero10\n",
    "Nonzero50 = 16-numZero50\n",
    "Nonzero500 = 16-numZero500\n",
    "\n",
    "print(\"Nonzero Dimensions Beta = 1  \" + str(Nonzero1))\n",
    "print(\"Nonzero Dimensions Beta = 10  \" + str(Nonzero10))\n",
    "print(\"Nonzero Dimensions Beta = 50  \" + str(Nonzero50))\n",
    "print(\"Nonzero Dimensions Beta = 500  \" + str(Nonzero500))"
   ]
  },
  {
   "cell_type": "code",
   "execution_count": null,
   "id": "30cea29c",
   "metadata": {},
   "outputs": [],
   "source": []
  }
 ],
 "metadata": {
  "kernelspec": {
   "display_name": "Python 3",
   "language": "python",
   "name": "python3"
  },
  "language_info": {
   "codemirror_mode": {
    "name": "ipython",
    "version": 3
   },
   "file_extension": ".py",
   "mimetype": "text/x-python",
   "name": "python",
   "nbconvert_exporter": "python",
   "pygments_lexer": "ipython3",
   "version": "3.7.11"
  }
 },
 "nbformat": 4,
 "nbformat_minor": 5
}
